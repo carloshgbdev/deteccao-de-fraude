{
 "cells": [
  {
   "cell_type": "code",
   "execution_count": 20,
   "metadata": {},
   "outputs": [],
   "source": [
    "import warnings\n",
    "\n",
    "warnings.filterwarnings(\"ignore\")"
   ]
  },
  {
   "cell_type": "markdown",
   "metadata": {},
   "source": [
    "### Carregamento dos Dados não Tratados"
   ]
  },
  {
   "cell_type": "code",
   "execution_count": 21,
   "metadata": {},
   "outputs": [],
   "source": [
    "import pandas as pd\n",
    "\n",
    "df = pd.read_csv('../../data/best_centroids.csv')"
   ]
  },
  {
   "cell_type": "code",
   "execution_count": 22,
   "metadata": {},
   "outputs": [
    {
     "data": {
      "text/html": [
       "<div>\n",
       "<style scoped>\n",
       "    .dataframe tbody tr th:only-of-type {\n",
       "        vertical-align: middle;\n",
       "    }\n",
       "\n",
       "    .dataframe tbody tr th {\n",
       "        vertical-align: top;\n",
       "    }\n",
       "\n",
       "    .dataframe thead th {\n",
       "        text-align: right;\n",
       "    }\n",
       "</style>\n",
       "<table border=\"1\" class=\"dataframe\">\n",
       "  <thead>\n",
       "    <tr style=\"text-align: right;\">\n",
       "      <th></th>\n",
       "      <th>V1</th>\n",
       "      <th>V2</th>\n",
       "      <th>V3</th>\n",
       "      <th>V4</th>\n",
       "      <th>V5</th>\n",
       "      <th>V6</th>\n",
       "      <th>V7</th>\n",
       "      <th>V8</th>\n",
       "      <th>V9</th>\n",
       "      <th>V10</th>\n",
       "      <th>...</th>\n",
       "      <th>V19</th>\n",
       "      <th>V20</th>\n",
       "      <th>V21</th>\n",
       "      <th>V22</th>\n",
       "      <th>V23</th>\n",
       "      <th>V24</th>\n",
       "      <th>V25</th>\n",
       "      <th>V26</th>\n",
       "      <th>V27</th>\n",
       "      <th>V28</th>\n",
       "    </tr>\n",
       "  </thead>\n",
       "  <tbody>\n",
       "    <tr>\n",
       "      <th>0</th>\n",
       "      <td>-0.000564</td>\n",
       "      <td>-0.049585</td>\n",
       "      <td>-1.169360</td>\n",
       "      <td>-1.031375</td>\n",
       "      <td>2.151041</td>\n",
       "      <td>3.591162</td>\n",
       "      <td>-0.449462</td>\n",
       "      <td>0.682112</td>\n",
       "      <td>-0.143896</td>\n",
       "      <td>-0.080050</td>\n",
       "      <td>...</td>\n",
       "      <td>0.076420</td>\n",
       "      <td>0.104077</td>\n",
       "      <td>-0.040347</td>\n",
       "      <td>-0.202244</td>\n",
       "      <td>-0.003635</td>\n",
       "      <td>0.838615</td>\n",
       "      <td>0.096869</td>\n",
       "      <td>-0.030184</td>\n",
       "      <td>0.002356</td>\n",
       "      <td>0.004355</td>\n",
       "    </tr>\n",
       "    <tr>\n",
       "      <th>1</th>\n",
       "      <td>-1.008667</td>\n",
       "      <td>0.589515</td>\n",
       "      <td>0.710437</td>\n",
       "      <td>-0.092714</td>\n",
       "      <td>0.233918</td>\n",
       "      <td>-0.175410</td>\n",
       "      <td>0.444283</td>\n",
       "      <td>-0.024516</td>\n",
       "      <td>-0.155215</td>\n",
       "      <td>-0.291075</td>\n",
       "      <td>...</td>\n",
       "      <td>0.080318</td>\n",
       "      <td>0.004099</td>\n",
       "      <td>0.025373</td>\n",
       "      <td>0.085167</td>\n",
       "      <td>-0.021282</td>\n",
       "      <td>-0.053792</td>\n",
       "      <td>-0.135700</td>\n",
       "      <td>0.004697</td>\n",
       "      <td>0.010052</td>\n",
       "      <td>0.004611</td>\n",
       "    </tr>\n",
       "    <tr>\n",
       "      <th>2</th>\n",
       "      <td>1.110358</td>\n",
       "      <td>-1.186569</td>\n",
       "      <td>-0.135236</td>\n",
       "      <td>-1.090696</td>\n",
       "      <td>-1.016366</td>\n",
       "      <td>-0.235977</td>\n",
       "      <td>-0.628885</td>\n",
       "      <td>-0.086828</td>\n",
       "      <td>-0.905233</td>\n",
       "      <td>0.841391</td>\n",
       "      <td>...</td>\n",
       "      <td>0.048705</td>\n",
       "      <td>-0.029458</td>\n",
       "      <td>-0.011577</td>\n",
       "      <td>0.039101</td>\n",
       "      <td>-0.014626</td>\n",
       "      <td>-0.065250</td>\n",
       "      <td>0.018602</td>\n",
       "      <td>-0.065175</td>\n",
       "      <td>0.000010</td>\n",
       "      <td>0.004388</td>\n",
       "    </tr>\n",
       "    <tr>\n",
       "      <th>3</th>\n",
       "      <td>-7.348987</td>\n",
       "      <td>-7.967257</td>\n",
       "      <td>-1.306374</td>\n",
       "      <td>1.664839</td>\n",
       "      <td>1.726613</td>\n",
       "      <td>-1.246960</td>\n",
       "      <td>-0.160714</td>\n",
       "      <td>-0.420913</td>\n",
       "      <td>0.409527</td>\n",
       "      <td>0.182791</td>\n",
       "      <td>...</td>\n",
       "      <td>0.044099</td>\n",
       "      <td>-0.168197</td>\n",
       "      <td>-0.107084</td>\n",
       "      <td>-0.102865</td>\n",
       "      <td>0.302608</td>\n",
       "      <td>0.017131</td>\n",
       "      <td>0.050086</td>\n",
       "      <td>-0.009293</td>\n",
       "      <td>0.102127</td>\n",
       "      <td>-0.058180</td>\n",
       "    </tr>\n",
       "    <tr>\n",
       "      <th>4</th>\n",
       "      <td>-5.549366</td>\n",
       "      <td>4.060521</td>\n",
       "      <td>-3.198019</td>\n",
       "      <td>-0.401144</td>\n",
       "      <td>-1.791815</td>\n",
       "      <td>-0.283527</td>\n",
       "      <td>-1.752855</td>\n",
       "      <td>-0.085365</td>\n",
       "      <td>1.275248</td>\n",
       "      <td>1.933217</td>\n",
       "      <td>...</td>\n",
       "      <td>-0.302579</td>\n",
       "      <td>0.705309</td>\n",
       "      <td>0.227306</td>\n",
       "      <td>-0.190795</td>\n",
       "      <td>0.217570</td>\n",
       "      <td>-0.043522</td>\n",
       "      <td>0.225389</td>\n",
       "      <td>-0.010961</td>\n",
       "      <td>0.063986</td>\n",
       "      <td>0.008383</td>\n",
       "    </tr>\n",
       "    <tr>\n",
       "      <th>5</th>\n",
       "      <td>1.436214</td>\n",
       "      <td>-0.220855</td>\n",
       "      <td>-0.401232</td>\n",
       "      <td>0.794041</td>\n",
       "      <td>-0.185959</td>\n",
       "      <td>-0.228307</td>\n",
       "      <td>-0.097602</td>\n",
       "      <td>-0.035608</td>\n",
       "      <td>0.550526</td>\n",
       "      <td>-0.110460</td>\n",
       "      <td>...</td>\n",
       "      <td>-0.131717</td>\n",
       "      <td>-0.039156</td>\n",
       "      <td>-0.026489</td>\n",
       "      <td>-0.070785</td>\n",
       "      <td>0.005630</td>\n",
       "      <td>-0.054891</td>\n",
       "      <td>0.135794</td>\n",
       "      <td>0.030838</td>\n",
       "      <td>-0.016918</td>\n",
       "      <td>-0.004902</td>\n",
       "    </tr>\n",
       "  </tbody>\n",
       "</table>\n",
       "<p>6 rows × 28 columns</p>\n",
       "</div>"
      ],
      "text/plain": [
       "         V1        V2        V3        V4        V5        V6        V7  \\\n",
       "0 -0.000564 -0.049585 -1.169360 -1.031375  2.151041  3.591162 -0.449462   \n",
       "1 -1.008667  0.589515  0.710437 -0.092714  0.233918 -0.175410  0.444283   \n",
       "2  1.110358 -1.186569 -0.135236 -1.090696 -1.016366 -0.235977 -0.628885   \n",
       "3 -7.348987 -7.967257 -1.306374  1.664839  1.726613 -1.246960 -0.160714   \n",
       "4 -5.549366  4.060521 -3.198019 -0.401144 -1.791815 -0.283527 -1.752855   \n",
       "5  1.436214 -0.220855 -0.401232  0.794041 -0.185959 -0.228307 -0.097602   \n",
       "\n",
       "         V8        V9       V10  ...       V19       V20       V21       V22  \\\n",
       "0  0.682112 -0.143896 -0.080050  ...  0.076420  0.104077 -0.040347 -0.202244   \n",
       "1 -0.024516 -0.155215 -0.291075  ...  0.080318  0.004099  0.025373  0.085167   \n",
       "2 -0.086828 -0.905233  0.841391  ...  0.048705 -0.029458 -0.011577  0.039101   \n",
       "3 -0.420913  0.409527  0.182791  ...  0.044099 -0.168197 -0.107084 -0.102865   \n",
       "4 -0.085365  1.275248  1.933217  ... -0.302579  0.705309  0.227306 -0.190795   \n",
       "5 -0.035608  0.550526 -0.110460  ... -0.131717 -0.039156 -0.026489 -0.070785   \n",
       "\n",
       "        V23       V24       V25       V26       V27       V28  \n",
       "0 -0.003635  0.838615  0.096869 -0.030184  0.002356  0.004355  \n",
       "1 -0.021282 -0.053792 -0.135700  0.004697  0.010052  0.004611  \n",
       "2 -0.014626 -0.065250  0.018602 -0.065175  0.000010  0.004388  \n",
       "3  0.302608  0.017131  0.050086 -0.009293  0.102127 -0.058180  \n",
       "4  0.217570 -0.043522  0.225389 -0.010961  0.063986  0.008383  \n",
       "5  0.005630 -0.054891  0.135794  0.030838 -0.016918 -0.004902  \n",
       "\n",
       "[6 rows x 28 columns]"
      ]
     },
     "execution_count": 22,
     "metadata": {},
     "output_type": "execute_result"
    }
   ],
   "source": [
    "df"
   ]
  },
  {
   "cell_type": "markdown",
   "metadata": {},
   "source": [
    "### Análise dos Clusters"
   ]
  },
  {
   "cell_type": "markdown",
   "metadata": {},
   "source": [
    "#### Cálculo de Variância"
   ]
  },
  {
   "cell_type": "code",
   "execution_count": 23,
   "metadata": {},
   "outputs": [],
   "source": [
    "import numpy as np\n",
    "\n",
    "total_variance = np.var(df, axis=0)"
   ]
  },
  {
   "cell_type": "code",
   "execution_count": 27,
   "metadata": {},
   "outputs": [
    {
     "name": "stdout",
     "output_type": "stream",
     "text": [
      "Variância Percentual Explicada pela Feature V1: 293.69%\n",
      "Variância Percentual Explicada pela Feature V2: 476.58%\n",
      "Variância Percentual Explicada pela Feature V3: 64.84%\n",
      "Variância Percentual Explicada pela Feature V4: 48.39%\n",
      "Variância Percentual Explicada pela Feature V5: 102.65%\n",
      "Variância Percentual Explicada pela Feature V6: 134.59%\n",
      "Variância Percentual Explicada pela Feature V7: 29.80%\n",
      "Variância Percentual Explicada pela Feature V8: 7.70%\n",
      "Variância Percentual Explicada pela Feature V9: 38.44%\n",
      "Variância Percentual Explicada pela Feature V10: 50.05%\n",
      "Variância Percentual Explicada pela Feature V11: 1.30%\n",
      "Variância Percentual Explicada pela Feature V12: 7.73%\n",
      "Variância Percentual Explicada pela Feature V13: 0.87%\n",
      "Variância Percentual Explicada pela Feature V14: 0.80%\n",
      "Variância Percentual Explicada pela Feature V15: 3.80%\n",
      "Variância Percentual Explicada pela Feature V16: 2.73%\n",
      "Variância Percentual Explicada pela Feature V17: 2.55%\n",
      "Variância Percentual Explicada pela Feature V18: 0.35%\n",
      "Variância Percentual Explicada pela Feature V19: 3.01%\n",
      "Variância Percentual Explicada pela Feature V20: 13.56%\n",
      "Variância Percentual Explicada pela Feature V21: 2.02%\n",
      "Variância Percentual Explicada pela Feature V22: 2.19%\n",
      "Variância Percentual Explicada pela Feature V23: 4.28%\n",
      "Variância Percentual Explicada pela Feature V24: 29.43%\n",
      "Variância Percentual Explicada pela Feature V25: 4.56%\n",
      "Variância Percentual Explicada pela Feature V26: 0.38%\n",
      "Variância Percentual Explicada pela Feature V27: 1.08%\n",
      "Variância Percentual Explicada pela Feature V28: 0.50%\n"
     ]
    }
   ],
   "source": [
    "import numpy as np\n",
    "\n",
    "# Carregar os centróides dos clusters\n",
    "centroids = df.to_numpy()\n",
    "\n",
    "# Calcular a variância entre os centróides dos clusters para cada feature\n",
    "between_cluster_variance = np.var(centroids, axis=0)\n",
    "\n",
    "credit_card = pd.read_csv('../../data/creditcard.csv')\n",
    "credit_card = credit_card.drop(columns=['Class', 'Time', 'Amount'])\n",
    "\n",
    "# Calcular a variância total de cada feature nos dados originais\n",
    "total_variance = credit_card.var()\n",
    "\n",
    "# Calcular a variância percentual explicada por cada feature\n",
    "variance_percent = (between_cluster_variance / total_variance) * 100\n",
    "\n",
    "# Exibir os resultados da variância percentual explicada por cada feature\n",
    "for feature, var_percent in variance_percent.items():\n",
    "    print(f\"Variância Percentual Explicada pela Feature {feature}: {var_percent:.2f}%\")"
   ]
  },
  {
   "cell_type": "code",
   "execution_count": 30,
   "metadata": {},
   "outputs": [
    {
     "data": {
      "text/plain": [
       "V2    476.579875\n",
       "V1    293.688614\n",
       "V6    134.593666\n",
       "V5    102.646221\n",
       "V3     64.839444\n",
       "dtype: float64"
      ]
     },
     "execution_count": 30,
     "metadata": {},
     "output_type": "execute_result"
    }
   ],
   "source": [
    "variance_percent.sort_values(ascending=False).head()"
   ]
  },
  {
   "cell_type": "code",
   "execution_count": 31,
   "metadata": {},
   "outputs": [
    {
     "data": {
      "text/plain": [
       "V2    15.594571\n",
       "V1    13.520799\n",
       "V6     2.866758\n",
       "V5     2.346592\n",
       "V3     1.788813\n",
       "dtype: float64"
      ]
     },
     "execution_count": 31,
     "metadata": {},
     "output_type": "execute_result"
    }
   ],
   "source": [
    "df.var().sort_values(ascending=False).head()"
   ]
  },
  {
   "cell_type": "code",
   "execution_count": null,
   "metadata": {},
   "outputs": [],
   "source": []
  }
 ],
 "metadata": {
  "kernelspec": {
   "display_name": "projeto_pad",
   "language": "python",
   "name": "python3"
  },
  "language_info": {
   "codemirror_mode": {
    "name": "ipython",
    "version": 3
   },
   "file_extension": ".py",
   "mimetype": "text/x-python",
   "name": "python",
   "nbconvert_exporter": "python",
   "pygments_lexer": "ipython3",
   "version": "3.12.2"
  }
 },
 "nbformat": 4,
 "nbformat_minor": 2
}
