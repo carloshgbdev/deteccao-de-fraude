{
 "cells": [
  {
   "cell_type": "code",
   "execution_count": 1,
   "metadata": {},
   "outputs": [],
   "source": [
    "import warnings\n",
    "\n",
    "warnings.filterwarnings(\"ignore\")"
   ]
  },
  {
   "cell_type": "markdown",
   "metadata": {},
   "source": [
    "### Carregamento dos Dados não Tratados"
   ]
  },
  {
   "cell_type": "code",
   "execution_count": 33,
   "metadata": {},
   "outputs": [],
   "source": [
    "import pandas as pd\n",
    "\n",
    "df = pd.read_csv('../../creditcard.csv')\n",
    "\n",
    "class_label = df['Class']\n",
    "df = df.drop(columns=['Class'])"
   ]
  },
  {
   "cell_type": "code",
   "execution_count": 46,
   "metadata": {},
   "outputs": [
    {
     "data": {
      "text/html": [
       "<div>\n",
       "<style scoped>\n",
       "    .dataframe tbody tr th:only-of-type {\n",
       "        vertical-align: middle;\n",
       "    }\n",
       "\n",
       "    .dataframe tbody tr th {\n",
       "        vertical-align: top;\n",
       "    }\n",
       "\n",
       "    .dataframe thead th {\n",
       "        text-align: right;\n",
       "    }\n",
       "</style>\n",
       "<table border=\"1\" class=\"dataframe\">\n",
       "  <thead>\n",
       "    <tr style=\"text-align: right;\">\n",
       "      <th></th>\n",
       "      <th>Time</th>\n",
       "      <th>V1</th>\n",
       "      <th>V2</th>\n",
       "      <th>V3</th>\n",
       "      <th>V4</th>\n",
       "      <th>V5</th>\n",
       "      <th>V6</th>\n",
       "      <th>V7</th>\n",
       "      <th>V8</th>\n",
       "      <th>V9</th>\n",
       "      <th>...</th>\n",
       "      <th>V20</th>\n",
       "      <th>V21</th>\n",
       "      <th>V22</th>\n",
       "      <th>V23</th>\n",
       "      <th>V24</th>\n",
       "      <th>V25</th>\n",
       "      <th>V26</th>\n",
       "      <th>V27</th>\n",
       "      <th>V28</th>\n",
       "      <th>Amount</th>\n",
       "    </tr>\n",
       "  </thead>\n",
       "  <tbody>\n",
       "    <tr>\n",
       "      <th>0</th>\n",
       "      <td>0.0</td>\n",
       "      <td>-1.359807</td>\n",
       "      <td>-0.072781</td>\n",
       "      <td>2.536347</td>\n",
       "      <td>1.378155</td>\n",
       "      <td>-0.338321</td>\n",
       "      <td>0.462388</td>\n",
       "      <td>0.239599</td>\n",
       "      <td>0.098698</td>\n",
       "      <td>0.363787</td>\n",
       "      <td>...</td>\n",
       "      <td>0.251412</td>\n",
       "      <td>-0.018307</td>\n",
       "      <td>0.277838</td>\n",
       "      <td>-0.110474</td>\n",
       "      <td>0.066928</td>\n",
       "      <td>0.128539</td>\n",
       "      <td>-0.189115</td>\n",
       "      <td>0.133558</td>\n",
       "      <td>-0.021053</td>\n",
       "      <td>149.62</td>\n",
       "    </tr>\n",
       "    <tr>\n",
       "      <th>1</th>\n",
       "      <td>0.0</td>\n",
       "      <td>1.191857</td>\n",
       "      <td>0.266151</td>\n",
       "      <td>0.166480</td>\n",
       "      <td>0.448154</td>\n",
       "      <td>0.060018</td>\n",
       "      <td>-0.082361</td>\n",
       "      <td>-0.078803</td>\n",
       "      <td>0.085102</td>\n",
       "      <td>-0.255425</td>\n",
       "      <td>...</td>\n",
       "      <td>-0.069083</td>\n",
       "      <td>-0.225775</td>\n",
       "      <td>-0.638672</td>\n",
       "      <td>0.101288</td>\n",
       "      <td>-0.339846</td>\n",
       "      <td>0.167170</td>\n",
       "      <td>0.125895</td>\n",
       "      <td>-0.008983</td>\n",
       "      <td>0.014724</td>\n",
       "      <td>2.69</td>\n",
       "    </tr>\n",
       "    <tr>\n",
       "      <th>2</th>\n",
       "      <td>1.0</td>\n",
       "      <td>-1.358354</td>\n",
       "      <td>-1.340163</td>\n",
       "      <td>1.773209</td>\n",
       "      <td>0.379780</td>\n",
       "      <td>-0.503198</td>\n",
       "      <td>1.800499</td>\n",
       "      <td>0.791461</td>\n",
       "      <td>0.247676</td>\n",
       "      <td>-1.514654</td>\n",
       "      <td>...</td>\n",
       "      <td>0.524980</td>\n",
       "      <td>0.247998</td>\n",
       "      <td>0.771679</td>\n",
       "      <td>0.909412</td>\n",
       "      <td>-0.689281</td>\n",
       "      <td>-0.327642</td>\n",
       "      <td>-0.139097</td>\n",
       "      <td>-0.055353</td>\n",
       "      <td>-0.059752</td>\n",
       "      <td>378.66</td>\n",
       "    </tr>\n",
       "    <tr>\n",
       "      <th>3</th>\n",
       "      <td>1.0</td>\n",
       "      <td>-0.966272</td>\n",
       "      <td>-0.185226</td>\n",
       "      <td>1.792993</td>\n",
       "      <td>-0.863291</td>\n",
       "      <td>-0.010309</td>\n",
       "      <td>1.247203</td>\n",
       "      <td>0.237609</td>\n",
       "      <td>0.377436</td>\n",
       "      <td>-1.387024</td>\n",
       "      <td>...</td>\n",
       "      <td>-0.208038</td>\n",
       "      <td>-0.108300</td>\n",
       "      <td>0.005274</td>\n",
       "      <td>-0.190321</td>\n",
       "      <td>-1.175575</td>\n",
       "      <td>0.647376</td>\n",
       "      <td>-0.221929</td>\n",
       "      <td>0.062723</td>\n",
       "      <td>0.061458</td>\n",
       "      <td>123.50</td>\n",
       "    </tr>\n",
       "    <tr>\n",
       "      <th>4</th>\n",
       "      <td>2.0</td>\n",
       "      <td>-1.158233</td>\n",
       "      <td>0.877737</td>\n",
       "      <td>1.548718</td>\n",
       "      <td>0.403034</td>\n",
       "      <td>-0.407193</td>\n",
       "      <td>0.095921</td>\n",
       "      <td>0.592941</td>\n",
       "      <td>-0.270533</td>\n",
       "      <td>0.817739</td>\n",
       "      <td>...</td>\n",
       "      <td>0.408542</td>\n",
       "      <td>-0.009431</td>\n",
       "      <td>0.798278</td>\n",
       "      <td>-0.137458</td>\n",
       "      <td>0.141267</td>\n",
       "      <td>-0.206010</td>\n",
       "      <td>0.502292</td>\n",
       "      <td>0.219422</td>\n",
       "      <td>0.215153</td>\n",
       "      <td>69.99</td>\n",
       "    </tr>\n",
       "    <tr>\n",
       "      <th>...</th>\n",
       "      <td>...</td>\n",
       "      <td>...</td>\n",
       "      <td>...</td>\n",
       "      <td>...</td>\n",
       "      <td>...</td>\n",
       "      <td>...</td>\n",
       "      <td>...</td>\n",
       "      <td>...</td>\n",
       "      <td>...</td>\n",
       "      <td>...</td>\n",
       "      <td>...</td>\n",
       "      <td>...</td>\n",
       "      <td>...</td>\n",
       "      <td>...</td>\n",
       "      <td>...</td>\n",
       "      <td>...</td>\n",
       "      <td>...</td>\n",
       "      <td>...</td>\n",
       "      <td>...</td>\n",
       "      <td>...</td>\n",
       "      <td>...</td>\n",
       "    </tr>\n",
       "    <tr>\n",
       "      <th>283165</th>\n",
       "      <td>171414.0</td>\n",
       "      <td>0.089696</td>\n",
       "      <td>1.222677</td>\n",
       "      <td>0.131305</td>\n",
       "      <td>0.940385</td>\n",
       "      <td>0.811718</td>\n",
       "      <td>0.122753</td>\n",
       "      <td>0.527066</td>\n",
       "      <td>-1.041155</td>\n",
       "      <td>-0.784230</td>\n",
       "      <td>...</td>\n",
       "      <td>0.205304</td>\n",
       "      <td>0.537514</td>\n",
       "      <td>-0.568050</td>\n",
       "      <td>0.139083</td>\n",
       "      <td>0.705197</td>\n",
       "      <td>-1.051533</td>\n",
       "      <td>0.481077</td>\n",
       "      <td>0.078930</td>\n",
       "      <td>0.007529</td>\n",
       "      <td>1.98</td>\n",
       "    </tr>\n",
       "    <tr>\n",
       "      <th>283166</th>\n",
       "      <td>171416.0</td>\n",
       "      <td>-0.983129</td>\n",
       "      <td>1.118527</td>\n",
       "      <td>0.807654</td>\n",
       "      <td>-0.592103</td>\n",
       "      <td>0.512843</td>\n",
       "      <td>-0.307039</td>\n",
       "      <td>0.596126</td>\n",
       "      <td>0.426580</td>\n",
       "      <td>-1.048183</td>\n",
       "      <td>...</td>\n",
       "      <td>-0.074815</td>\n",
       "      <td>-0.203017</td>\n",
       "      <td>-0.759487</td>\n",
       "      <td>-0.312025</td>\n",
       "      <td>-0.455505</td>\n",
       "      <td>0.458035</td>\n",
       "      <td>0.415058</td>\n",
       "      <td>-0.153250</td>\n",
       "      <td>-0.049231</td>\n",
       "      <td>1.29</td>\n",
       "    </tr>\n",
       "    <tr>\n",
       "      <th>283167</th>\n",
       "      <td>171416.0</td>\n",
       "      <td>-4.036511</td>\n",
       "      <td>-4.116404</td>\n",
       "      <td>1.014058</td>\n",
       "      <td>0.164592</td>\n",
       "      <td>4.415613</td>\n",
       "      <td>-3.324136</td>\n",
       "      <td>-0.416128</td>\n",
       "      <td>-0.563942</td>\n",
       "      <td>0.292513</td>\n",
       "      <td>...</td>\n",
       "      <td>0.735095</td>\n",
       "      <td>-0.059415</td>\n",
       "      <td>-0.536516</td>\n",
       "      <td>0.284077</td>\n",
       "      <td>-0.061619</td>\n",
       "      <td>1.019444</td>\n",
       "      <td>-0.015180</td>\n",
       "      <td>-0.844723</td>\n",
       "      <td>0.456627</td>\n",
       "      <td>133.55</td>\n",
       "    </tr>\n",
       "    <tr>\n",
       "      <th>283168</th>\n",
       "      <td>171416.0</td>\n",
       "      <td>1.945731</td>\n",
       "      <td>-0.275007</td>\n",
       "      <td>-1.062573</td>\n",
       "      <td>0.359283</td>\n",
       "      <td>-0.247727</td>\n",
       "      <td>-0.952067</td>\n",
       "      <td>0.066698</td>\n",
       "      <td>-0.150335</td>\n",
       "      <td>0.411245</td>\n",
       "      <td>...</td>\n",
       "      <td>-0.205498</td>\n",
       "      <td>-0.221221</td>\n",
       "      <td>-0.663239</td>\n",
       "      <td>0.320075</td>\n",
       "      <td>0.053940</td>\n",
       "      <td>-0.384809</td>\n",
       "      <td>0.172121</td>\n",
       "      <td>-0.086963</td>\n",
       "      <td>-0.065166</td>\n",
       "      <td>36.18</td>\n",
       "    </tr>\n",
       "    <tr>\n",
       "      <th>283169</th>\n",
       "      <td>171417.0</td>\n",
       "      <td>-0.827788</td>\n",
       "      <td>1.542169</td>\n",
       "      <td>-0.967660</td>\n",
       "      <td>-0.374607</td>\n",
       "      <td>-0.086768</td>\n",
       "      <td>-1.115929</td>\n",
       "      <td>0.199610</td>\n",
       "      <td>0.713945</td>\n",
       "      <td>-0.050291</td>\n",
       "      <td>...</td>\n",
       "      <td>-0.169314</td>\n",
       "      <td>0.434614</td>\n",
       "      <td>1.248048</td>\n",
       "      <td>0.070466</td>\n",
       "      <td>1.094749</td>\n",
       "      <td>-0.770748</td>\n",
       "      <td>-0.260581</td>\n",
       "      <td>0.363593</td>\n",
       "      <td>0.257476</td>\n",
       "      <td>1.45</td>\n",
       "    </tr>\n",
       "  </tbody>\n",
       "</table>\n",
       "<p>282093 rows × 30 columns</p>\n",
       "</div>"
      ],
      "text/plain": [
       "            Time        V1        V2        V3        V4        V5        V6  \\\n",
       "0            0.0 -1.359807 -0.072781  2.536347  1.378155 -0.338321  0.462388   \n",
       "1            0.0  1.191857  0.266151  0.166480  0.448154  0.060018 -0.082361   \n",
       "2            1.0 -1.358354 -1.340163  1.773209  0.379780 -0.503198  1.800499   \n",
       "3            1.0 -0.966272 -0.185226  1.792993 -0.863291 -0.010309  1.247203   \n",
       "4            2.0 -1.158233  0.877737  1.548718  0.403034 -0.407193  0.095921   \n",
       "...          ...       ...       ...       ...       ...       ...       ...   \n",
       "283165  171414.0  0.089696  1.222677  0.131305  0.940385  0.811718  0.122753   \n",
       "283166  171416.0 -0.983129  1.118527  0.807654 -0.592103  0.512843 -0.307039   \n",
       "283167  171416.0 -4.036511 -4.116404  1.014058  0.164592  4.415613 -3.324136   \n",
       "283168  171416.0  1.945731 -0.275007 -1.062573  0.359283 -0.247727 -0.952067   \n",
       "283169  171417.0 -0.827788  1.542169 -0.967660 -0.374607 -0.086768 -1.115929   \n",
       "\n",
       "              V7        V8        V9  ...       V20       V21       V22  \\\n",
       "0       0.239599  0.098698  0.363787  ...  0.251412 -0.018307  0.277838   \n",
       "1      -0.078803  0.085102 -0.255425  ... -0.069083 -0.225775 -0.638672   \n",
       "2       0.791461  0.247676 -1.514654  ...  0.524980  0.247998  0.771679   \n",
       "3       0.237609  0.377436 -1.387024  ... -0.208038 -0.108300  0.005274   \n",
       "4       0.592941 -0.270533  0.817739  ...  0.408542 -0.009431  0.798278   \n",
       "...          ...       ...       ...  ...       ...       ...       ...   \n",
       "283165  0.527066 -1.041155 -0.784230  ...  0.205304  0.537514 -0.568050   \n",
       "283166  0.596126  0.426580 -1.048183  ... -0.074815 -0.203017 -0.759487   \n",
       "283167 -0.416128 -0.563942  0.292513  ...  0.735095 -0.059415 -0.536516   \n",
       "283168  0.066698 -0.150335  0.411245  ... -0.205498 -0.221221 -0.663239   \n",
       "283169  0.199610  0.713945 -0.050291  ... -0.169314  0.434614  1.248048   \n",
       "\n",
       "             V23       V24       V25       V26       V27       V28  Amount  \n",
       "0      -0.110474  0.066928  0.128539 -0.189115  0.133558 -0.021053  149.62  \n",
       "1       0.101288 -0.339846  0.167170  0.125895 -0.008983  0.014724    2.69  \n",
       "2       0.909412 -0.689281 -0.327642 -0.139097 -0.055353 -0.059752  378.66  \n",
       "3      -0.190321 -1.175575  0.647376 -0.221929  0.062723  0.061458  123.50  \n",
       "4      -0.137458  0.141267 -0.206010  0.502292  0.219422  0.215153   69.99  \n",
       "...          ...       ...       ...       ...       ...       ...     ...  \n",
       "283165  0.139083  0.705197 -1.051533  0.481077  0.078930  0.007529    1.98  \n",
       "283166 -0.312025 -0.455505  0.458035  0.415058 -0.153250 -0.049231    1.29  \n",
       "283167  0.284077 -0.061619  1.019444 -0.015180 -0.844723  0.456627  133.55  \n",
       "283168  0.320075  0.053940 -0.384809  0.172121 -0.086963 -0.065166   36.18  \n",
       "283169  0.070466  1.094749 -0.770748 -0.260581  0.363593  0.257476    1.45  \n",
       "\n",
       "[282093 rows x 30 columns]"
      ]
     },
     "execution_count": 46,
     "metadata": {},
     "output_type": "execute_result"
    }
   ],
   "source": [
    "df.shape\n",
    "df[df.duplicated()].shape\n",
    "df.dropna(inplace=True)\n",
    "df = df.drop_duplicates()"
   ]
  },
  {
   "cell_type": "markdown",
   "metadata": {},
   "source": [
    "### Escolha do número de Cluster"
   ]
  },
  {
   "cell_type": "code",
   "execution_count": 37,
   "metadata": {},
   "outputs": [
    {
     "name": "stderr",
     "output_type": "stream",
     "text": [
      "100%|██████████| 21/21 [01:14<00:00,  3.53s/it]\n"
     ]
    }
   ],
   "source": [
    "from sklearn.cluster import KMeans\n",
    "from tqdm import tqdm\n",
    "\n",
    "k_range = range(1, 22)\n",
    "\n",
    "inertias = []\n",
    "\n",
    "for k in tqdm(k_range):\n",
    "    kmeans = KMeans(n_clusters=k, random_state=42)\n",
    "    kmeans.fit(df)\n",
    "    inertias.append(kmeans.inertia_)"
   ]
  },
  {
   "cell_type": "code",
   "execution_count": 38,
   "metadata": {},
   "outputs": [
    {
     "data": {
      "image/png": "[encoded data removed]",
      "text/plain": [
       "<Figure size 800x400 with 1 Axes>"
      ]
     },
     "metadata": {},
     "output_type": "display_data"
    }
   ],
   "source": [
    "import matplotlib.pyplot as plt\n",
    "\n",
    "plt.figure(figsize=(8, 4))\n",
    "plt.plot(k_range, inertias, 'bo-')\n",
    "plt.xlabel('Número de Clusters (k)')\n",
    "plt.ylabel('Inércia')\n",
    "plt.title('Método do Cotovelo para Determinação do k Ótimo')\n",
    "plt.show()"
   ]
  },
  {
   "cell_type": "markdown",
   "metadata": {},
   "source": [
    "Vamos utilizar um cálculo para podermos encontrar o valor ótimo do número de clusters. Esse cálculo pode ser encontrado nesse blog [https://medium.com/pizzadedados/kmeans-e-metodo-do-cotovelo-94ded9fdf3a9]."
   ]
  },
  {
   "cell_type": "code",
   "execution_count": 39,
   "metadata": {},
   "outputs": [],
   "source": [
    "from math import sqrt\n",
    "\n",
    "def optimal_number_of_clusters(wcss):\n",
    "    x1, y1 = 2, wcss[0]\n",
    "    x2, y2 = 20, wcss[len(wcss)-1]\n",
    "\n",
    "    distances = []\n",
    "    for i in range(len(wcss)):\n",
    "        x0 = i+2\n",
    "        y0 = wcss[i]\n",
    "        numerator = abs((y2-y1)*x0 - (x2-x1)*y0 + x2*y1 - y2*x1)\n",
    "        denominator = sqrt((y2 - y1)**2 + (x2 - x1)**2)\n",
    "        distances.append(numerator/denominator)\n",
    "    \n",
    "    return distances"
   ]
  },
  {
   "cell_type": "code",
   "execution_count": 40,
   "metadata": {},
   "outputs": [
    {
     "data": {
      "image/png": "[encoded data removed]",
      "text/plain": [
       "<Figure size 800x400 with 1 Axes>"
      ]
     },
     "metadata": {},
     "output_type": "display_data"
    }
   ],
   "source": [
    "distances = optimal_number_of_clusters(inertias)\n",
    "\n",
    "plt.figure(figsize=(8, 4))\n",
    "plt.plot(k_range, distances, 'bo-')\n",
    "plt.xlabel('Número de Clusters (k)')\n",
    "plt.ylabel('Distância da reta até o ponto da curva')\n",
    "plt.title('Método do Cotovelo para Determinação do k Ótimo')\n",
    "plt.show()"
   ]
  },
  {
   "cell_type": "markdown",
   "metadata": {},
   "source": [
    "Vemos que o número ideal de cluster, que possui o maior valor de distância entre a linha e o ponto na curva, é 3. Então podemos trabalhar com 3 clusters para os dados não tratados. Vamos agora testar os nossos hiperparâmetros (random seed) para obter um modelo mais robusto."
   ]
  },
  {
   "cell_type": "code",
   "execution_count": 41,
   "metadata": {},
   "outputs": [
    {
     "name": "stderr",
     "output_type": "stream",
     "text": [
      "100%|██████████| 999/999 [17:59<00:00,  1.08s/it]"
     ]
    },
    {
     "name": "stdout",
     "output_type": "stream",
     "text": [
      "Melhor random seed: 86\n"
     ]
    },
    {
     "name": "stderr",
     "output_type": "stream",
     "text": [
      "\n"
     ]
    }
   ],
   "source": [
    "import numpy as np\n",
    "\n",
    "# Definir o número de clusters\n",
    "k = 3\n",
    "\n",
    "# Definir o número de inicializações diferentes\n",
    "num_initializations = 999\n",
    "\n",
    "best_inertia = np.inf\n",
    "best_kmeans = None\n",
    "best_random_seed = None\n",
    "\n",
    "# Treinar o modelo com diferentes random_seed\n",
    "for i in tqdm(range(num_initializations)):\n",
    "    random_seed = i\n",
    "    kmeans = KMeans(n_clusters=k, random_state=random_seed)\n",
    "    kmeans.fit(df)\n",
    "    \n",
    "    if kmeans.inertia_ < best_inertia:\n",
    "        best_inertia = kmeans.inertia_\n",
    "        best_kmeans = kmeans\n",
    "        best_random_seed = random_seed\n",
    "\n",
    "print(f\"Melhor random seed: {best_random_seed}\")"
   ]
  },
  {
   "cell_type": "markdown",
   "metadata": {},
   "source": [
    "Como resultado, parece que a random seed 728 possui o menor valor de inércia dentro do nosso escopo."
   ]
  },
  {
   "cell_type": "code",
   "execution_count": 20,
   "metadata": {},
   "outputs": [
    {
     "name": "stdout",
     "output_type": "stream",
     "text": [
      "Inércia: 127339406348277.12\n"
     ]
    }
   ],
   "source": [
    "print(f\"Inércia: {best_kmeans.inertia_}\")"
   ]
  },
  {
   "cell_type": "markdown",
   "metadata": {},
   "source": [
    "Com base nos clusters encontrados usamos o \"fit_predict\" para que o kmeans classifique cada um dos dados dentro do nosso dataframe dentro dos  clusters encontrados"
   ]
  },
  {
   "cell_type": "code",
   "execution_count": 66,
   "metadata": {},
   "outputs": [
    {
     "name": "stdout",
     "output_type": "stream",
     "text": [
      "Clusters encontrados [1 1 1 ... 0 0 0]\n",
      "            Time        V1        V2        V3        V4        V5        V6  \\\n",
      "71935    54503.0  0.995809 -0.030496 -0.049695  1.261054 -0.013675 -0.288243   \n",
      "71936    54503.0 -2.077801  1.591884  0.153042  1.606362 -0.580726 -0.533075   \n",
      "71937    54503.0  1.225934 -0.293803  0.987563  0.344647 -0.753643  0.470828   \n",
      "71938    54504.0 -0.559891 -1.258752 -0.676727 -3.402442  1.048185  3.477664   \n",
      "71939    54504.0 -1.027995  0.540167  1.193860 -1.297107 -0.131542 -0.699962   \n",
      "...          ...       ...       ...       ...       ...       ...       ...   \n",
      "156256  107677.0 -0.681778  0.663974  2.462182 -0.398526  0.258698 -0.190994   \n",
      "156257  107677.0 -1.638761  0.193164  3.121217  5.121672 -0.750669  2.528040   \n",
      "156258  107677.0  2.006073 -0.051243 -0.103065  0.635257 -0.485990 -0.643535   \n",
      "156259  107679.0 -0.518399  1.218123  2.826422  4.332250  0.637097  1.571573   \n",
      "156260  107681.0 -0.631894  1.294102  0.933836  2.688733  1.217948  0.551976   \n",
      "\n",
      "              V7        V8        V9  ...       V20       V21       V22  \\\n",
      "71935   0.395413 -0.127379 -0.276349  ...  0.125848  0.071268  0.093287   \n",
      "71936   0.129657 -0.509175 -0.516920  ... -0.490503  0.594327 -0.664305   \n",
      "71937  -0.994604  0.331381  0.993288  ... -0.162097  0.173752  0.553657   \n",
      "71938   0.292130  0.680051 -2.674259  ...  0.332540  0.076404 -0.063133   \n",
      "71939   0.527292 -0.161707  0.971179  ... -0.070063 -0.132809 -0.188361   \n",
      "...          ...       ...       ...  ...       ...       ...       ...   \n",
      "156256  0.463125 -0.137691  1.273510  ...  0.075292 -0.238970 -0.325552   \n",
      "156257 -1.459768  1.326069  0.677307  ...  0.632303  0.115243  0.490452   \n",
      "156258 -0.456077 -0.247203  2.352881  ... -0.191787 -0.322445 -0.440743   \n",
      "156259  0.516623 -0.244834 -0.638873  ...  0.363009  0.002217  0.694734   \n",
      "156260  1.370362  0.000230 -1.031345  ...  0.020334  0.274970  0.665192   \n",
      "\n",
      "             V23       V24       V25       V26       V27       V28  Amount  \n",
      "71935  -0.309442  0.046710  0.828913 -0.272163 -0.013669  0.021727  120.00  \n",
      "71936   0.206663  0.570574 -0.999808 -0.732911 -1.255318 -0.593339   47.48  \n",
      "71937  -0.083083 -0.746717  0.187834  0.663603  0.022412  0.015130    0.11  \n",
      "71938   0.470613  0.950419  0.038901 -0.330465  0.046369  0.157853  270.00  \n",
      "71939   0.118305  0.066990 -0.649334  0.651458 -0.245007  0.040723   25.66  \n",
      "...          ...       ...       ...       ...       ...       ...     ...  \n",
      "156256 -0.276005 -0.028325  0.283690 -0.812046 -0.100399 -0.155607   11.27  \n",
      "156257 -0.018954  0.715650  0.158952  0.575053  0.249856 -0.005436  117.84  \n",
      "156258  0.365953 -0.091144 -0.392375 -0.663083  0.019084 -0.035826    0.12  \n",
      "156259 -0.270669 -0.430546  0.134396  0.473593 -0.317961 -0.403148   45.51  \n",
      "156260 -0.035349  0.671905  0.017394 -0.007861  0.022245  0.152493  111.07  \n",
      "\n",
      "[84007 rows x 30 columns]\n"
     ]
    }
   ],
   "source": [
    "label = kmeans.fit_predict(df)\n",
    "\n",
    "print(\"Clusters encontrados\",label)\n",
    "#Aparentemente foi encontrado o cluster 0 como sendo valores grandes, o cluster 1 sendo valores próximos de 0 e o cluster 2 negativos\n",
    "print(df[label == 2])"
   ]
  },
  {
   "cell_type": "markdown",
   "metadata": {},
   "source": [
    "E olha só, ao realizar a visualização do nosso dataset clusterizado, podemos perceber claramente outliers, pois o eixo y está sendo montado com base no PCA, enquanto o x com base no Time, no entanto valores do Time se encontram nos mesmos clusters que dentro do PCA, gerando pontos fora da curva!"
   ]
  },
  {
   "cell_type": "code",
   "execution_count": 69,
   "metadata": {},
   "outputs": [
    {
     "data": {
      "image/png": "[encoded data removed]",
      "text/plain": [
       "<Figure size 640x480 with 1 Axes>"
      ]
     },
     "metadata": {},
     "output_type": "display_data"
    },
    {
     "data": {
      "text/plain": [
       "<Figure size 1200x1200 with 0 Axes>"
      ]
     },
     "metadata": {},
     "output_type": "display_data"
    }
   ],
   "source": [
    "all_labels = np.unique(label)\n",
    "\n",
    "for i in all_labels:\n",
    "    plt.scatter(df[label == i].iloc[:, 0], df[label == i].iloc[:, 1], label=f'Cluster {i}')\n",
    "\n",
    "plt.ylabel('PCA')\n",
    "plt.xlabel(\"Time\")\n",
    "plt.title(\"Clusters\")\n",
    "plt.figure(figsize=(12,12))\n",
    "plt.show()"
   ]
  },
  {
   "cell_type": "code",
   "execution_count": 22,
   "metadata": {},
   "outputs": [],
   "source": [
    "# Obter os centróides do melhor modelo\n",
    "centroids = best_kmeans.cluster_centers_\n",
    "\n",
    "# Converter os centróides para um DataFrame\n",
    "centroids_df = pd.DataFrame(centroids, columns=df.columns)\n",
    "\n",
    "# Salvar os centróides em um arquivo CSV\n",
    "centroids_df.to_csv('../best_centroids.csv', index=False)"
   ]
  },
  {
   "cell_type": "code",
   "execution_count": 23,
   "metadata": {},
   "outputs": [],
   "source": [
    "df['cluster'] = best_kmeans.labels_\n",
    "df['Class'] = class_label\n",
    "\n",
    "df.to_csv('../creditcard_clusters.csv', index=False)"
   ]
  },
  {
   "cell_type": "markdown",
   "metadata": {},
   "source": [
    "### Carregamento dos Dados Tratados"
   ]
  },
  {
   "cell_type": "code",
   "execution_count": 76,
   "metadata": {},
   "outputs": [],
   "source": [
    "import pandas as pd\n",
    "\n",
    "df = pd.read_csv('../creditcard_treated.csv')\n",
    "\n",
    "class_label = df['Class']\n",
    "df = df.drop(columns=['Class'])\n",
    "\n"
   ]
  },
  {
   "cell_type": "code",
   "execution_count": 77,
   "metadata": {},
   "outputs": [
    {
     "data": {
      "text/plain": [
       "(563240, 30)"
      ]
     },
     "execution_count": 77,
     "metadata": {},
     "output_type": "execute_result"
    }
   ],
   "source": [
    "df.shape"
   ]
  },
  {
   "cell_type": "markdown",
   "metadata": {},
   "source": [
    "### Escolha do número de Cluster do DF tratado"
   ]
  },
  {
   "cell_type": "code",
   "execution_count": 78,
   "metadata": {},
   "outputs": [
    {
     "name": "stderr",
     "output_type": "stream",
     "text": [
      "100%|██████████| 21/21 [01:41<00:00,  4.85s/it]\n"
     ]
    }
   ],
   "source": [
    "from sklearn.cluster import KMeans\n",
    "from tqdm import tqdm\n",
    "\n",
    "k_range = range(1, 22)\n",
    "\n",
    "inertias = []\n",
    "\n",
    "for k in tqdm(k_range):\n",
    "    kmeans = KMeans(n_clusters=k, random_state=42)\n",
    "    kmeans.fit(df)\n",
    "    inertias.append(kmeans.inertia_)"
   ]
  },
  {
   "cell_type": "code",
   "execution_count": 79,
   "metadata": {},
   "outputs": [
    {
     "data": {
      "image/png": "[encoded data removed]",
      "text/plain": [
       "<Figure size 800x400 with 1 Axes>"
      ]
     },
     "metadata": {},
     "output_type": "display_data"
    }
   ],
   "source": [
    "import matplotlib.pyplot as plt\n",
    "\n",
    "distances = optimal_number_of_clusters(inertias)\n",
    "\n",
    "plt.figure(figsize=(8, 4))\n",
    "plt.plot(k_range, distances, 'bo-')\n",
    "plt.xlabel('Número de Clusters (k)')\n",
    "plt.ylabel('Distância da reta até o ponto da curva')\n",
    "plt.title('Método do Cotovelo para Determinação do k Ótimo')\n",
    "plt.show()"
   ]
  },
  {
   "cell_type": "markdown",
   "metadata": {},
   "source": [
    "Parece que se manteve o mesmo número ideal de clusters... Viva! E o hiperparâmetro?"
   ]
  },
  {
   "cell_type": "code",
   "execution_count": 80,
   "metadata": {},
   "outputs": [
    {
     "name": "stderr",
     "output_type": "stream",
     "text": [
      "  0%|          | 2/999 [00:04<40:18,  2.43s/it]\n"
     ]
    },
    {
     "ename": "KeyboardInterrupt",
     "evalue": "",
     "output_type": "error",
     "traceback": [
      "\u001b[1;31m---------------------------------------------------------------------------\u001b[0m",
      "\u001b[1;31mKeyboardInterrupt\u001b[0m                         Traceback (most recent call last)",
      "Cell \u001b[1;32mIn[80], line 16\u001b[0m\n\u001b[0;32m     14\u001b[0m random_seed \u001b[38;5;241m=\u001b[39m i\n\u001b[0;32m     15\u001b[0m kmeans \u001b[38;5;241m=\u001b[39m KMeans(n_clusters\u001b[38;5;241m=\u001b[39mk, random_state\u001b[38;5;241m=\u001b[39mrandom_seed)\n\u001b[1;32m---> 16\u001b[0m \u001b[43mkmeans\u001b[49m\u001b[38;5;241;43m.\u001b[39;49m\u001b[43mfit\u001b[49m\u001b[43m(\u001b[49m\u001b[43mdf\u001b[49m\u001b[43m)\u001b[49m\n\u001b[0;32m     18\u001b[0m \u001b[38;5;28;01mif\u001b[39;00m kmeans\u001b[38;5;241m.\u001b[39minertia_ \u001b[38;5;241m<\u001b[39m best_inertia:\n\u001b[0;32m     19\u001b[0m     best_inertia \u001b[38;5;241m=\u001b[39m kmeans\u001b[38;5;241m.\u001b[39minertia_\n",
      "File \u001b[1;32mc:\\Users\\guilh\\AppData\\Local\\Programs\\Python\\Python310\\lib\\site-packages\\sklearn\\base.py:1152\u001b[0m, in \u001b[0;36m_fit_context.<locals>.decorator.<locals>.wrapper\u001b[1;34m(estimator, *args, **kwargs)\u001b[0m\n\u001b[0;32m   1145\u001b[0m     estimator\u001b[38;5;241m.\u001b[39m_validate_params()\n\u001b[0;32m   1147\u001b[0m \u001b[38;5;28;01mwith\u001b[39;00m config_context(\n\u001b[0;32m   1148\u001b[0m     skip_parameter_validation\u001b[38;5;241m=\u001b[39m(\n\u001b[0;32m   1149\u001b[0m         prefer_skip_nested_validation \u001b[38;5;129;01mor\u001b[39;00m global_skip_validation\n\u001b[0;32m   1150\u001b[0m     )\n\u001b[0;32m   1151\u001b[0m ):\n\u001b[1;32m-> 1152\u001b[0m     \u001b[38;5;28;01mreturn\u001b[39;00m fit_method(estimator, \u001b[38;5;241m*\u001b[39margs, \u001b[38;5;241m*\u001b[39m\u001b[38;5;241m*\u001b[39mkwargs)\n",
      "File \u001b[1;32mc:\\Users\\guilh\\AppData\\Local\\Programs\\Python\\Python310\\lib\\site-packages\\sklearn\\cluster\\_kmeans.py:1519\u001b[0m, in \u001b[0;36mKMeans.fit\u001b[1;34m(self, X, y, sample_weight)\u001b[0m\n\u001b[0;32m   1515\u001b[0m best_inertia, best_labels \u001b[38;5;241m=\u001b[39m \u001b[38;5;28;01mNone\u001b[39;00m, \u001b[38;5;28;01mNone\u001b[39;00m\n\u001b[0;32m   1517\u001b[0m \u001b[38;5;28;01mfor\u001b[39;00m i \u001b[38;5;129;01min\u001b[39;00m \u001b[38;5;28mrange\u001b[39m(\u001b[38;5;28mself\u001b[39m\u001b[38;5;241m.\u001b[39m_n_init):\n\u001b[0;32m   1518\u001b[0m     \u001b[38;5;66;03m# Initialize centers\u001b[39;00m\n\u001b[1;32m-> 1519\u001b[0m     centers_init \u001b[38;5;241m=\u001b[39m \u001b[38;5;28;43mself\u001b[39;49m\u001b[38;5;241;43m.\u001b[39;49m\u001b[43m_init_centroids\u001b[49m\u001b[43m(\u001b[49m\n\u001b[0;32m   1520\u001b[0m \u001b[43m        \u001b[49m\u001b[43mX\u001b[49m\u001b[43m,\u001b[49m\n\u001b[0;32m   1521\u001b[0m \u001b[43m        \u001b[49m\u001b[43mx_squared_norms\u001b[49m\u001b[38;5;241;43m=\u001b[39;49m\u001b[43mx_squared_norms\u001b[49m\u001b[43m,\u001b[49m\n\u001b[0;32m   1522\u001b[0m \u001b[43m        \u001b[49m\u001b[43minit\u001b[49m\u001b[38;5;241;43m=\u001b[39;49m\u001b[43minit\u001b[49m\u001b[43m,\u001b[49m\n\u001b[0;32m   1523\u001b[0m \u001b[43m        \u001b[49m\u001b[43mrandom_state\u001b[49m\u001b[38;5;241;43m=\u001b[39;49m\u001b[43mrandom_state\u001b[49m\u001b[43m,\u001b[49m\n\u001b[0;32m   1524\u001b[0m \u001b[43m        \u001b[49m\u001b[43msample_weight\u001b[49m\u001b[38;5;241;43m=\u001b[39;49m\u001b[43msample_weight\u001b[49m\u001b[43m,\u001b[49m\n\u001b[0;32m   1525\u001b[0m \u001b[43m    \u001b[49m\u001b[43m)\u001b[49m\n\u001b[0;32m   1526\u001b[0m     \u001b[38;5;28;01mif\u001b[39;00m \u001b[38;5;28mself\u001b[39m\u001b[38;5;241m.\u001b[39mverbose:\n\u001b[0;32m   1527\u001b[0m         \u001b[38;5;28mprint\u001b[39m(\u001b[38;5;124m\"\u001b[39m\u001b[38;5;124mInitialization complete\u001b[39m\u001b[38;5;124m\"\u001b[39m)\n",
      "File \u001b[1;32mc:\\Users\\guilh\\AppData\\Local\\Programs\\Python\\Python310\\lib\\site-packages\\sklearn\\cluster\\_kmeans.py:1019\u001b[0m, in \u001b[0;36m_BaseKMeans._init_centroids\u001b[1;34m(self, X, x_squared_norms, init, random_state, sample_weight, init_size, n_centroids)\u001b[0m\n\u001b[0;32m   1016\u001b[0m     sample_weight \u001b[38;5;241m=\u001b[39m sample_weight[init_indices]\n\u001b[0;32m   1018\u001b[0m \u001b[38;5;28;01mif\u001b[39;00m \u001b[38;5;28misinstance\u001b[39m(init, \u001b[38;5;28mstr\u001b[39m) \u001b[38;5;129;01mand\u001b[39;00m init \u001b[38;5;241m==\u001b[39m \u001b[38;5;124m\"\u001b[39m\u001b[38;5;124mk-means++\u001b[39m\u001b[38;5;124m\"\u001b[39m:\n\u001b[1;32m-> 1019\u001b[0m     centers, _ \u001b[38;5;241m=\u001b[39m \u001b[43m_kmeans_plusplus\u001b[49m\u001b[43m(\u001b[49m\n\u001b[0;32m   1020\u001b[0m \u001b[43m        \u001b[49m\u001b[43mX\u001b[49m\u001b[43m,\u001b[49m\n\u001b[0;32m   1021\u001b[0m \u001b[43m        \u001b[49m\u001b[43mn_clusters\u001b[49m\u001b[43m,\u001b[49m\n\u001b[0;32m   1022\u001b[0m \u001b[43m        \u001b[49m\u001b[43mrandom_state\u001b[49m\u001b[38;5;241;43m=\u001b[39;49m\u001b[43mrandom_state\u001b[49m\u001b[43m,\u001b[49m\n\u001b[0;32m   1023\u001b[0m \u001b[43m        \u001b[49m\u001b[43mx_squared_norms\u001b[49m\u001b[38;5;241;43m=\u001b[39;49m\u001b[43mx_squared_norms\u001b[49m\u001b[43m,\u001b[49m\n\u001b[0;32m   1024\u001b[0m \u001b[43m        \u001b[49m\u001b[43msample_weight\u001b[49m\u001b[38;5;241;43m=\u001b[39;49m\u001b[43msample_weight\u001b[49m\u001b[43m,\u001b[49m\n\u001b[0;32m   1025\u001b[0m \u001b[43m    \u001b[49m\u001b[43m)\u001b[49m\n\u001b[0;32m   1026\u001b[0m \u001b[38;5;28;01melif\u001b[39;00m \u001b[38;5;28misinstance\u001b[39m(init, \u001b[38;5;28mstr\u001b[39m) \u001b[38;5;129;01mand\u001b[39;00m init \u001b[38;5;241m==\u001b[39m \u001b[38;5;124m\"\u001b[39m\u001b[38;5;124mrandom\u001b[39m\u001b[38;5;124m\"\u001b[39m:\n\u001b[0;32m   1027\u001b[0m     seeds \u001b[38;5;241m=\u001b[39m random_state\u001b[38;5;241m.\u001b[39mchoice(\n\u001b[0;32m   1028\u001b[0m         n_samples,\n\u001b[0;32m   1029\u001b[0m         size\u001b[38;5;241m=\u001b[39mn_clusters,\n\u001b[0;32m   1030\u001b[0m         replace\u001b[38;5;241m=\u001b[39m\u001b[38;5;28;01mFalse\u001b[39;00m,\n\u001b[0;32m   1031\u001b[0m         p\u001b[38;5;241m=\u001b[39msample_weight \u001b[38;5;241m/\u001b[39m sample_weight\u001b[38;5;241m.\u001b[39msum(),\n\u001b[0;32m   1032\u001b[0m     )\n",
      "File \u001b[1;32mc:\\Users\\guilh\\AppData\\Local\\Programs\\Python\\Python310\\lib\\site-packages\\sklearn\\cluster\\_kmeans.py:229\u001b[0m, in \u001b[0;36m_kmeans_plusplus\u001b[1;34m(X, n_clusters, x_squared_norms, sample_weight, random_state, n_local_trials)\u001b[0m\n\u001b[0;32m    226\u001b[0m     n_local_trials \u001b[38;5;241m=\u001b[39m \u001b[38;5;241m2\u001b[39m \u001b[38;5;241m+\u001b[39m \u001b[38;5;28mint\u001b[39m(np\u001b[38;5;241m.\u001b[39mlog(n_clusters))\n\u001b[0;32m    228\u001b[0m \u001b[38;5;66;03m# Pick first center randomly and track index of point\u001b[39;00m\n\u001b[1;32m--> 229\u001b[0m center_id \u001b[38;5;241m=\u001b[39m \u001b[43mrandom_state\u001b[49m\u001b[38;5;241;43m.\u001b[39;49m\u001b[43mchoice\u001b[49m\u001b[43m(\u001b[49m\u001b[43mn_samples\u001b[49m\u001b[43m,\u001b[49m\u001b[43m \u001b[49m\u001b[43mp\u001b[49m\u001b[38;5;241;43m=\u001b[39;49m\u001b[43msample_weight\u001b[49m\u001b[43m \u001b[49m\u001b[38;5;241;43m/\u001b[39;49m\u001b[43m \u001b[49m\u001b[43msample_weight\u001b[49m\u001b[38;5;241;43m.\u001b[39;49m\u001b[43msum\u001b[49m\u001b[43m(\u001b[49m\u001b[43m)\u001b[49m\u001b[43m)\u001b[49m\n\u001b[0;32m    230\u001b[0m indices \u001b[38;5;241m=\u001b[39m np\u001b[38;5;241m.\u001b[39mfull(n_clusters, \u001b[38;5;241m-\u001b[39m\u001b[38;5;241m1\u001b[39m, dtype\u001b[38;5;241m=\u001b[39m\u001b[38;5;28mint\u001b[39m)\n\u001b[0;32m    231\u001b[0m \u001b[38;5;28;01mif\u001b[39;00m sp\u001b[38;5;241m.\u001b[39missparse(X):\n",
      "\u001b[1;31mKeyboardInterrupt\u001b[0m: "
     ]
    }
   ],
   "source": [
    "import numpy as np\n",
    "# Definir o número de clusters\n",
    "k = 3\n",
    "\n",
    "# Definir o número de inicializações diferentes\n",
    "num_initializations = 999\n",
    "\n",
    "best_inertia = np.inf\n",
    "best_kmeans = None\n",
    "best_random_seed = None\n",
    "\n",
    "# Treinar o modelo com diferentes random_seed\n",
    "for i in tqdm(range(num_initializations)):\n",
    "    random_seed = i\n",
    "    kmeans = KMeans(n_clusters=k, random_state=random_seed)\n",
    "    kmeans.fit(df)\n",
    "    \n",
    "    if kmeans.inertia_ < best_inertia:\n",
    "        best_inertia = kmeans.inertia_\n",
    "        best_kmeans = kmeans\n",
    "        best_random_seed = random_seed\n",
    "\n",
    "print(f\"Melhor random seed: {best_random_seed}\")"
   ]
  },
  {
   "cell_type": "markdown",
   "metadata": {},
   "source": [
    "Opa! Mudou... (Caso vc so queira o melhor dataset sem esperar 30 min, random_state = 823)"
   ]
  },
  {
   "cell_type": "code",
   "execution_count": 82,
   "metadata": {},
   "outputs": [
    {
     "name": "stdout",
     "output_type": "stream",
     "text": [
      "Inércia: 125640261224573.42\n"
     ]
    }
   ],
   "source": [
    "print(f\"Inércia: {best_kmeans.inertia_}\")"
   ]
  },
  {
   "cell_type": "markdown",
   "metadata": {},
   "source": [
    "A inércia está muito mais alta em comparação, o que parece fazer sentido como o volume dos dados dobrou.(SMOTE)"
   ]
  },
  {
   "cell_type": "code",
   "execution_count": 85,
   "metadata": {},
   "outputs": [
    {
     "name": "stdout",
     "output_type": "stream",
     "text": [
      "Clusters encontrados [0 0 0 ... 0 0 2]\n",
      "                 Time        V1        V2        V3        V4        V5  \\\n",
      "157591  111083.000000  1.855876 -0.528715  0.136391  1.227645 -0.683445   \n",
      "157592  111086.000000 -0.619589  0.574291 -0.195893  1.348123  0.456957   \n",
      "157593  111087.000000 -0.200371 -0.015764 -0.058925 -0.520027  1.543060   \n",
      "157594  111087.000000 -0.075474  0.103926  0.725494  1.074052  0.863310   \n",
      "157595  111089.000000  2.104037  0.065442 -1.428655  0.323540  0.393572   \n",
      "...               ...       ...       ...       ...       ...       ...   \n",
      "563226  129607.655226 -2.294471  2.087198 -5.844912  2.864064 -0.809834   \n",
      "563227  137826.483421 -0.431469  1.383718 -5.531483  2.034940 -1.676173   \n",
      "563228  143436.589823 -4.365572  1.403825 -4.999829  3.329674  0.318717   \n",
      "563230  134902.969571  0.170720  1.204055 -3.922186  4.047616 -2.312621   \n",
      "563235  154021.180123 -6.151978 -1.487382 -4.893660  2.896103  0.463398   \n",
      "\n",
      "              V6        V7        V8        V9  ...       V20       V21  \\\n",
      "157591  0.745547 -1.363504  0.452630  2.635367  ... -0.343828  0.146727   \n",
      "157592 -0.457301  2.060942 -0.424673  0.569036  ...  0.574862  0.112625   \n",
      "157593  0.811815  0.465163  0.283670  0.982215  ... -0.074140 -0.149180   \n",
      "157594  0.566906  0.590947 -0.282767  1.314472  ...  0.477357  0.283163   \n",
      "157595 -0.720375  0.054806 -0.347347  2.082360  ... -0.271997  0.093486   \n",
      "...          ...       ...       ...       ...  ...       ...       ...   \n",
      "563226 -1.437570  0.849828 -0.084756 -1.341336  ... -0.585653 -0.024705   \n",
      "563227  0.451574 -2.378223  1.218847 -1.147631  ...  0.299569  0.705649   \n",
      "563228 -1.834366 -4.994230  0.079846 -3.108576  ... -0.203449 -0.163273   \n",
      "563230  0.992255  0.687167 -1.577017 -1.592121  ...  0.746310 -0.586147   \n",
      "563235 -3.166797 -4.169978  1.524096 -1.890787  ...  0.246065  1.171334   \n",
      "\n",
      "             V22       V23       V24       V25       V26       V27       V28  \\\n",
      "157591  0.521209  0.215920  0.125691 -0.450668 -0.670480  0.031473 -0.030751   \n",
      "157592  0.427960  0.313815 -0.161275  0.113366 -0.416477  0.322315  0.256394   \n",
      "157593 -0.263101  0.446488 -1.490584 -1.049675  0.124302  0.011691  0.028393   \n",
      "157594  1.132905  0.331353  0.049247 -1.199625 -0.679788  0.131418  0.097579   \n",
      "157595  0.657963 -0.007259  0.431328  0.360900 -0.474799 -0.024631 -0.056532   \n",
      "...          ...       ...       ...       ...       ...       ...       ...   \n",
      "563226  0.096330  0.085313 -0.683825  0.135856 -0.345215  0.489110 -0.164499   \n",
      "563227  0.249109  0.409246 -0.607881 -0.533974 -0.066519  0.952296  0.377552   \n",
      "563228  0.224766 -0.895835 -0.047098  0.322631 -0.436644  0.557275 -0.062709   \n",
      "563230  0.270443  0.816880 -0.054685 -1.055155  0.009982  0.563973  0.099766   \n",
      "563235 -0.994378  0.313069 -0.243100 -0.165280  1.236037 -0.669807 -0.585297   \n",
      "\n",
      "          Amount  \n",
      "157591 -0.281088  \n",
      "157592  0.701823  \n",
      "157593 -0.120637  \n",
      "157594  0.177794  \n",
      "157595 -0.432541  \n",
      "...          ...  \n",
      "563226  1.580537  \n",
      "563227  0.847998  \n",
      "563228 -0.409417  \n",
      "563230  2.260629  \n",
      "563235  0.261710  \n",
      "\n",
      "[204842 rows x 30 columns]\n"
     ]
    }
   ],
   "source": [
    "label = kmeans.fit_predict(df)\n",
    "\n",
    "print(\"Clusters encontrados\",label)\n",
    "#Aparentemente foi encontrado o cluster 0 como sendo valores grandes, o cluster 1 sendo valores próximos de 0 e o cluster 2 negativos\n",
    "print(df[label == 1])"
   ]
  },
  {
   "cell_type": "markdown",
   "metadata": {},
   "source": [
    "Podemos perceber pelos gráficos agora com SMOTE que a classificação dos clusters não alterou absurdamente"
   ]
  },
  {
   "cell_type": "code",
   "execution_count": 86,
   "metadata": {},
   "outputs": [
    {
     "data": {
      "image/png": "[encoded data removed]",
      "text/plain": [
       "<Figure size 640x480 with 1 Axes>"
      ]
     },
     "metadata": {},
     "output_type": "display_data"
    },
    {
     "data": {
      "text/plain": [
       "<Figure size 1200x1200 with 0 Axes>"
      ]
     },
     "metadata": {},
     "output_type": "display_data"
    }
   ],
   "source": [
    "all_labels = np.unique(label)\n",
    "\n",
    "for i in all_labels:\n",
    "    plt.scatter(df[label == i].iloc[:, 0], df[label == i].iloc[:, 1], label=f'Cluster {i}')\n",
    "\n",
    "plt.ylabel('PCA')\n",
    "plt.xlabel(\"Time\")\n",
    "plt.title(\"Clusters\")\n",
    "plt.figure(figsize=(12,12))\n",
    "plt.show()"
   ]
  },
  {
   "cell_type": "code",
   "execution_count": 13,
   "metadata": {},
   "outputs": [],
   "source": [
    "# Obter os centróides do melhor modelo\n",
    "centroids = best_kmeans.cluster_centers_\n",
    "\n",
    "# Converter os centróides para um DataFrame\n",
    "centroids_df = pd.DataFrame(centroids, columns=df.columns)\n",
    "\n",
    "# Salvar os centróides em um arquivo CSV\n",
    "centroids_df.to_csv('../best_centroids_df_treated.csv', index=False)"
   ]
  },
  {
   "cell_type": "code",
   "execution_count": 15,
   "metadata": {},
   "outputs": [],
   "source": [
    "df['cluster'] = best_kmeans.labels_\n",
    "df['Class'] = class_label\n",
    "\n",
    "df.to_csv('../creditcard_treated_clusters.csv', index=False)"
   ]
  },
  {
   "cell_type": "code",
   "execution_count": 19,
   "metadata": {},
   "outputs": [
    {
     "data": {
      "text/html": [
       "<div>\n",
       "<style scoped>\n",
       "    .dataframe tbody tr th:only-of-type {\n",
       "        vertical-align: middle;\n",
       "    }\n",
       "\n",
       "    .dataframe tbody tr th {\n",
       "        vertical-align: top;\n",
       "    }\n",
       "\n",
       "    .dataframe thead th {\n",
       "        text-align: right;\n",
       "    }\n",
       "</style>\n",
       "<table border=\"1\" class=\"dataframe\">\n",
       "  <thead>\n",
       "    <tr style=\"text-align: right;\">\n",
       "      <th></th>\n",
       "      <th>Time</th>\n",
       "      <th>V1</th>\n",
       "      <th>V2</th>\n",
       "      <th>V3</th>\n",
       "      <th>V4</th>\n",
       "      <th>V5</th>\n",
       "      <th>V6</th>\n",
       "      <th>V7</th>\n",
       "      <th>V8</th>\n",
       "      <th>V9</th>\n",
       "      <th>...</th>\n",
       "      <th>V22</th>\n",
       "      <th>V23</th>\n",
       "      <th>V24</th>\n",
       "      <th>V25</th>\n",
       "      <th>V26</th>\n",
       "      <th>V27</th>\n",
       "      <th>V28</th>\n",
       "      <th>Amount</th>\n",
       "      <th>cluster</th>\n",
       "      <th>Class</th>\n",
       "    </tr>\n",
       "  </thead>\n",
       "  <tbody>\n",
       "    <tr>\n",
       "      <th>0</th>\n",
       "      <td>0.000000</td>\n",
       "      <td>-1.359807</td>\n",
       "      <td>-0.072781</td>\n",
       "      <td>2.536347</td>\n",
       "      <td>1.378155</td>\n",
       "      <td>-0.338321</td>\n",
       "      <td>0.462388</td>\n",
       "      <td>0.239599</td>\n",
       "      <td>0.098698</td>\n",
       "      <td>0.363787</td>\n",
       "      <td>...</td>\n",
       "      <td>0.277838</td>\n",
       "      <td>-0.110474</td>\n",
       "      <td>0.066928</td>\n",
       "      <td>0.128539</td>\n",
       "      <td>-0.189115</td>\n",
       "      <td>0.133558</td>\n",
       "      <td>-0.021053</td>\n",
       "      <td>0.239370</td>\n",
       "      <td>0</td>\n",
       "      <td>0.0</td>\n",
       "    </tr>\n",
       "    <tr>\n",
       "      <th>1</th>\n",
       "      <td>0.000000</td>\n",
       "      <td>1.191857</td>\n",
       "      <td>0.266151</td>\n",
       "      <td>0.166480</td>\n",
       "      <td>0.448154</td>\n",
       "      <td>0.060018</td>\n",
       "      <td>-0.082361</td>\n",
       "      <td>-0.078803</td>\n",
       "      <td>0.085102</td>\n",
       "      <td>-0.255425</td>\n",
       "      <td>...</td>\n",
       "      <td>-0.638672</td>\n",
       "      <td>0.101288</td>\n",
       "      <td>-0.339846</td>\n",
       "      <td>0.167170</td>\n",
       "      <td>0.125895</td>\n",
       "      <td>-0.008983</td>\n",
       "      <td>0.014724</td>\n",
       "      <td>-0.424901</td>\n",
       "      <td>0</td>\n",
       "      <td>0.0</td>\n",
       "    </tr>\n",
       "    <tr>\n",
       "      <th>2</th>\n",
       "      <td>1.000000</td>\n",
       "      <td>-1.358354</td>\n",
       "      <td>-1.340163</td>\n",
       "      <td>1.773209</td>\n",
       "      <td>0.379780</td>\n",
       "      <td>-0.503198</td>\n",
       "      <td>1.800499</td>\n",
       "      <td>0.791461</td>\n",
       "      <td>0.247676</td>\n",
       "      <td>-1.514654</td>\n",
       "      <td>...</td>\n",
       "      <td>0.771679</td>\n",
       "      <td>0.909412</td>\n",
       "      <td>-0.689281</td>\n",
       "      <td>-0.327642</td>\n",
       "      <td>-0.139097</td>\n",
       "      <td>-0.055353</td>\n",
       "      <td>-0.059752</td>\n",
       "      <td>1.274860</td>\n",
       "      <td>0</td>\n",
       "      <td>0.0</td>\n",
       "    </tr>\n",
       "    <tr>\n",
       "      <th>3</th>\n",
       "      <td>1.000000</td>\n",
       "      <td>-0.966272</td>\n",
       "      <td>-0.185226</td>\n",
       "      <td>1.792993</td>\n",
       "      <td>-0.863291</td>\n",
       "      <td>-0.010309</td>\n",
       "      <td>1.247203</td>\n",
       "      <td>0.237609</td>\n",
       "      <td>0.377436</td>\n",
       "      <td>-1.387024</td>\n",
       "      <td>...</td>\n",
       "      <td>0.005274</td>\n",
       "      <td>-0.190321</td>\n",
       "      <td>-1.175575</td>\n",
       "      <td>0.647376</td>\n",
       "      <td>-0.221929</td>\n",
       "      <td>0.062723</td>\n",
       "      <td>0.061458</td>\n",
       "      <td>0.121281</td>\n",
       "      <td>0</td>\n",
       "      <td>0.0</td>\n",
       "    </tr>\n",
       "    <tr>\n",
       "      <th>4</th>\n",
       "      <td>2.000000</td>\n",
       "      <td>-1.158233</td>\n",
       "      <td>0.877737</td>\n",
       "      <td>1.548718</td>\n",
       "      <td>0.403034</td>\n",
       "      <td>-0.407193</td>\n",
       "      <td>0.095921</td>\n",
       "      <td>0.592941</td>\n",
       "      <td>-0.270533</td>\n",
       "      <td>0.817739</td>\n",
       "      <td>...</td>\n",
       "      <td>0.798278</td>\n",
       "      <td>-0.137458</td>\n",
       "      <td>0.141267</td>\n",
       "      <td>-0.206010</td>\n",
       "      <td>0.502292</td>\n",
       "      <td>0.219422</td>\n",
       "      <td>0.215153</td>\n",
       "      <td>-0.120637</td>\n",
       "      <td>0</td>\n",
       "      <td>0.0</td>\n",
       "    </tr>\n",
       "    <tr>\n",
       "      <th>...</th>\n",
       "      <td>...</td>\n",
       "      <td>...</td>\n",
       "      <td>...</td>\n",
       "      <td>...</td>\n",
       "      <td>...</td>\n",
       "      <td>...</td>\n",
       "      <td>...</td>\n",
       "      <td>...</td>\n",
       "      <td>...</td>\n",
       "      <td>...</td>\n",
       "      <td>...</td>\n",
       "      <td>...</td>\n",
       "      <td>...</td>\n",
       "      <td>...</td>\n",
       "      <td>...</td>\n",
       "      <td>...</td>\n",
       "      <td>...</td>\n",
       "      <td>...</td>\n",
       "      <td>...</td>\n",
       "      <td>...</td>\n",
       "      <td>...</td>\n",
       "    </tr>\n",
       "    <tr>\n",
       "      <th>563235</th>\n",
       "      <td>154021.180123</td>\n",
       "      <td>-6.151978</td>\n",
       "      <td>-1.487382</td>\n",
       "      <td>-4.893660</td>\n",
       "      <td>2.896103</td>\n",
       "      <td>0.463398</td>\n",
       "      <td>-3.166797</td>\n",
       "      <td>-4.169978</td>\n",
       "      <td>1.524096</td>\n",
       "      <td>-1.890787</td>\n",
       "      <td>...</td>\n",
       "      <td>-0.994378</td>\n",
       "      <td>0.313069</td>\n",
       "      <td>-0.243100</td>\n",
       "      <td>-0.165280</td>\n",
       "      <td>1.236037</td>\n",
       "      <td>-0.669807</td>\n",
       "      <td>-0.585297</td>\n",
       "      <td>0.261710</td>\n",
       "      <td>1</td>\n",
       "      <td>1.0</td>\n",
       "    </tr>\n",
       "    <tr>\n",
       "      <th>563236</th>\n",
       "      <td>48359.577927</td>\n",
       "      <td>-2.649776</td>\n",
       "      <td>-1.334328</td>\n",
       "      <td>0.885839</td>\n",
       "      <td>1.926523</td>\n",
       "      <td>-0.141272</td>\n",
       "      <td>-0.539475</td>\n",
       "      <td>0.653850</td>\n",
       "      <td>-0.317152</td>\n",
       "      <td>0.519650</td>\n",
       "      <td>...</td>\n",
       "      <td>0.414452</td>\n",
       "      <td>0.741434</td>\n",
       "      <td>0.420443</td>\n",
       "      <td>0.258677</td>\n",
       "      <td>-0.133946</td>\n",
       "      <td>0.081950</td>\n",
       "      <td>0.354275</td>\n",
       "      <td>0.463942</td>\n",
       "      <td>0</td>\n",
       "      <td>1.0</td>\n",
       "    </tr>\n",
       "    <tr>\n",
       "      <th>563237</th>\n",
       "      <td>41202.923605</td>\n",
       "      <td>-8.372807</td>\n",
       "      <td>6.105246</td>\n",
       "      <td>-11.622985</td>\n",
       "      <td>6.699396</td>\n",
       "      <td>-8.100926</td>\n",
       "      <td>-3.714798</td>\n",
       "      <td>-12.366592</td>\n",
       "      <td>5.574975</td>\n",
       "      <td>-6.222133</td>\n",
       "      <td>...</td>\n",
       "      <td>-0.279497</td>\n",
       "      <td>0.009196</td>\n",
       "      <td>0.403336</td>\n",
       "      <td>-0.020379</td>\n",
       "      <td>0.523873</td>\n",
       "      <td>0.819582</td>\n",
       "      <td>0.075949</td>\n",
       "      <td>-0.303293</td>\n",
       "      <td>0</td>\n",
       "      <td>1.0</td>\n",
       "    </tr>\n",
       "    <tr>\n",
       "      <th>563238</th>\n",
       "      <td>41567.118936</td>\n",
       "      <td>-1.956009</td>\n",
       "      <td>1.740479</td>\n",
       "      <td>-1.227773</td>\n",
       "      <td>2.789663</td>\n",
       "      <td>-1.863577</td>\n",
       "      <td>-0.246224</td>\n",
       "      <td>-2.990720</td>\n",
       "      <td>1.266762</td>\n",
       "      <td>-1.507698</td>\n",
       "      <td>...</td>\n",
       "      <td>0.529681</td>\n",
       "      <td>-0.139876</td>\n",
       "      <td>0.151106</td>\n",
       "      <td>0.074212</td>\n",
       "      <td>-0.161577</td>\n",
       "      <td>0.386903</td>\n",
       "      <td>0.019372</td>\n",
       "      <td>-0.260275</td>\n",
       "      <td>0</td>\n",
       "      <td>1.0</td>\n",
       "    </tr>\n",
       "    <tr>\n",
       "      <th>563239</th>\n",
       "      <td>59531.066948</td>\n",
       "      <td>-3.536571</td>\n",
       "      <td>-2.726562</td>\n",
       "      <td>-2.041533</td>\n",
       "      <td>2.903936</td>\n",
       "      <td>1.377126</td>\n",
       "      <td>-3.204371</td>\n",
       "      <td>-4.460248</td>\n",
       "      <td>1.172677</td>\n",
       "      <td>-0.870222</td>\n",
       "      <td>...</td>\n",
       "      <td>-0.231597</td>\n",
       "      <td>-0.250343</td>\n",
       "      <td>0.120100</td>\n",
       "      <td>0.496962</td>\n",
       "      <td>0.090563</td>\n",
       "      <td>0.697489</td>\n",
       "      <td>-0.358118</td>\n",
       "      <td>-0.380807</td>\n",
       "      <td>2</td>\n",
       "      <td>1.0</td>\n",
       "    </tr>\n",
       "  </tbody>\n",
       "</table>\n",
       "<p>563240 rows × 32 columns</p>\n",
       "</div>"
      ],
      "text/plain": [
       "                 Time        V1        V2         V3        V4        V5  \\\n",
       "0            0.000000 -1.359807 -0.072781   2.536347  1.378155 -0.338321   \n",
       "1            0.000000  1.191857  0.266151   0.166480  0.448154  0.060018   \n",
       "2            1.000000 -1.358354 -1.340163   1.773209  0.379780 -0.503198   \n",
       "3            1.000000 -0.966272 -0.185226   1.792993 -0.863291 -0.010309   \n",
       "4            2.000000 -1.158233  0.877737   1.548718  0.403034 -0.407193   \n",
       "...               ...       ...       ...        ...       ...       ...   \n",
       "563235  154021.180123 -6.151978 -1.487382  -4.893660  2.896103  0.463398   \n",
       "563236   48359.577927 -2.649776 -1.334328   0.885839  1.926523 -0.141272   \n",
       "563237   41202.923605 -8.372807  6.105246 -11.622985  6.699396 -8.100926   \n",
       "563238   41567.118936 -1.956009  1.740479  -1.227773  2.789663 -1.863577   \n",
       "563239   59531.066948 -3.536571 -2.726562  -2.041533  2.903936  1.377126   \n",
       "\n",
       "              V6         V7        V8        V9  ...       V22       V23  \\\n",
       "0       0.462388   0.239599  0.098698  0.363787  ...  0.277838 -0.110474   \n",
       "1      -0.082361  -0.078803  0.085102 -0.255425  ... -0.638672  0.101288   \n",
       "2       1.800499   0.791461  0.247676 -1.514654  ...  0.771679  0.909412   \n",
       "3       1.247203   0.237609  0.377436 -1.387024  ...  0.005274 -0.190321   \n",
       "4       0.095921   0.592941 -0.270533  0.817739  ...  0.798278 -0.137458   \n",
       "...          ...        ...       ...       ...  ...       ...       ...   \n",
       "563235 -3.166797  -4.169978  1.524096 -1.890787  ... -0.994378  0.313069   \n",
       "563236 -0.539475   0.653850 -0.317152  0.519650  ...  0.414452  0.741434   \n",
       "563237 -3.714798 -12.366592  5.574975 -6.222133  ... -0.279497  0.009196   \n",
       "563238 -0.246224  -2.990720  1.266762 -1.507698  ...  0.529681 -0.139876   \n",
       "563239 -3.204371  -4.460248  1.172677 -0.870222  ... -0.231597 -0.250343   \n",
       "\n",
       "             V24       V25       V26       V27       V28    Amount  cluster  \\\n",
       "0       0.066928  0.128539 -0.189115  0.133558 -0.021053  0.239370        0   \n",
       "1      -0.339846  0.167170  0.125895 -0.008983  0.014724 -0.424901        0   \n",
       "2      -0.689281 -0.327642 -0.139097 -0.055353 -0.059752  1.274860        0   \n",
       "3      -1.175575  0.647376 -0.221929  0.062723  0.061458  0.121281        0   \n",
       "4       0.141267 -0.206010  0.502292  0.219422  0.215153 -0.120637        0   \n",
       "...          ...       ...       ...       ...       ...       ...      ...   \n",
       "563235 -0.243100 -0.165280  1.236037 -0.669807 -0.585297  0.261710        1   \n",
       "563236  0.420443  0.258677 -0.133946  0.081950  0.354275  0.463942        0   \n",
       "563237  0.403336 -0.020379  0.523873  0.819582  0.075949 -0.303293        0   \n",
       "563238  0.151106  0.074212 -0.161577  0.386903  0.019372 -0.260275        0   \n",
       "563239  0.120100  0.496962  0.090563  0.697489 -0.358118 -0.380807        2   \n",
       "\n",
       "        Class  \n",
       "0         0.0  \n",
       "1         0.0  \n",
       "2         0.0  \n",
       "3         0.0  \n",
       "4         0.0  \n",
       "...       ...  \n",
       "563235    1.0  \n",
       "563236    1.0  \n",
       "563237    1.0  \n",
       "563238    1.0  \n",
       "563239    1.0  \n",
       "\n",
       "[563240 rows x 32 columns]"
      ]
     },
     "execution_count": 19,
     "metadata": {},
     "output_type": "execute_result"
    }
   ],
   "source": [
    "import pandas as pd\n",
    "\n",
    "df = pd.read_csv('../creditcard_treated_clusters.csv')\n",
    "df"
   ]
  },
  {
   "cell_type": "markdown",
   "metadata": {},
   "source": [
    "### Utilizando Autoencoders para Reduzir a dimensionalidade antes de utilizar o Kmeans"
   ]
  },
  {
   "cell_type": "code",
   "execution_count": 87,
   "metadata": {},
   "outputs": [],
   "source": [
    "import pandas as pd\n",
    "import keras\n",
    "from sklearn.model_selection import train_test_split\n",
    "from keras import layers\n",
    "import matplotlib.pyplot as plt\n",
    "from keras.models import Model\n",
    "\n",
    "\n",
    "df_autoencoder = pd.read_csv('../creditcard_treated_clusters.csv')\n"
   ]
  },
  {
   "cell_type": "code",
   "execution_count": 88,
   "metadata": {},
   "outputs": [
    {
     "data": {
      "text/html": [
       "<pre style=\"white-space:pre;overflow-x:auto;line-height:normal;font-family:Menlo,'DejaVu Sans Mono',consolas,'Courier New',monospace\"><span style=\"font-weight: bold\">Model: \"functional_3\"</span>\n",
       "</pre>\n"
      ],
      "text/plain": [
       "\u001b[1mModel: \"functional_3\"\u001b[0m\n"
      ]
     },
     "metadata": {},
     "output_type": "display_data"
    },
    {
     "data": {
      "text/html": [
       "<pre style=\"white-space:pre;overflow-x:auto;line-height:normal;font-family:Menlo,'DejaVu Sans Mono',consolas,'Courier New',monospace\">┏━━━━━━━━━━━━━━━━━━━━━━━━━━━━━━━━━┳━━━━━━━━━━━━━━━━━━━━━━━━┳━━━━━━━━━━━━━━━┓\n",
       "┃<span style=\"font-weight: bold\"> Layer (type)                    </span>┃<span style=\"font-weight: bold\"> Output Shape           </span>┃<span style=\"font-weight: bold\">       Param # </span>┃\n",
       "┡━━━━━━━━━━━━━━━━━━━━━━━━━━━━━━━━━╇━━━━━━━━━━━━━━━━━━━━━━━━╇━━━━━━━━━━━━━━━┩\n",
       "│ input_layer_2 (<span style=\"color: #0087ff; text-decoration-color: #0087ff\">InputLayer</span>)      │ (<span style=\"color: #00d7ff; text-decoration-color: #00d7ff\">None</span>, <span style=\"color: #00af00; text-decoration-color: #00af00\">32</span>)             │             <span style=\"color: #00af00; text-decoration-color: #00af00\">0</span> │\n",
       "├─────────────────────────────────┼────────────────────────┼───────────────┤\n",
       "│ dense_4 (<span style=\"color: #0087ff; text-decoration-color: #0087ff\">Dense</span>)                 │ (<span style=\"color: #00d7ff; text-decoration-color: #00d7ff\">None</span>, <span style=\"color: #00af00; text-decoration-color: #00af00\">32</span>)             │         <span style=\"color: #00af00; text-decoration-color: #00af00\">1,056</span> │\n",
       "├─────────────────────────────────┼────────────────────────┼───────────────┤\n",
       "│ dense_5 (<span style=\"color: #0087ff; text-decoration-color: #0087ff\">Dense</span>)                 │ (<span style=\"color: #00d7ff; text-decoration-color: #00d7ff\">None</span>, <span style=\"color: #00af00; text-decoration-color: #00af00\">32</span>)             │         <span style=\"color: #00af00; text-decoration-color: #00af00\">1,056</span> │\n",
       "└─────────────────────────────────┴────────────────────────┴───────────────┘\n",
       "</pre>\n"
      ],
      "text/plain": [
       "┏━━━━━━━━━━━━━━━━━━━━━━━━━━━━━━━━━┳━━━━━━━━━━━━━━━━━━━━━━━━┳━━━━━━━━━━━━━━━┓\n",
       "┃\u001b[1m \u001b[0m\u001b[1mLayer (type)                   \u001b[0m\u001b[1m \u001b[0m┃\u001b[1m \u001b[0m\u001b[1mOutput Shape          \u001b[0m\u001b[1m \u001b[0m┃\u001b[1m \u001b[0m\u001b[1m      Param #\u001b[0m\u001b[1m \u001b[0m┃\n",
       "┡━━━━━━━━━━━━━━━━━━━━━━━━━━━━━━━━━╇━━━━━━━━━━━━━━━━━━━━━━━━╇━━━━━━━━━━━━━━━┩\n",
       "│ input_layer_2 (\u001b[38;5;33mInputLayer\u001b[0m)      │ (\u001b[38;5;45mNone\u001b[0m, \u001b[38;5;34m32\u001b[0m)             │             \u001b[38;5;34m0\u001b[0m │\n",
       "├─────────────────────────────────┼────────────────────────┼───────────────┤\n",
       "│ dense_4 (\u001b[38;5;33mDense\u001b[0m)                 │ (\u001b[38;5;45mNone\u001b[0m, \u001b[38;5;34m32\u001b[0m)             │         \u001b[38;5;34m1,056\u001b[0m │\n",
       "├─────────────────────────────────┼────────────────────────┼───────────────┤\n",
       "│ dense_5 (\u001b[38;5;33mDense\u001b[0m)                 │ (\u001b[38;5;45mNone\u001b[0m, \u001b[38;5;34m32\u001b[0m)             │         \u001b[38;5;34m1,056\u001b[0m │\n",
       "└─────────────────────────────────┴────────────────────────┴───────────────┘\n"
      ]
     },
     "metadata": {},
     "output_type": "display_data"
    },
    {
     "data": {
      "text/html": [
       "<pre style=\"white-space:pre;overflow-x:auto;line-height:normal;font-family:Menlo,'DejaVu Sans Mono',consolas,'Courier New',monospace\"><span style=\"font-weight: bold\"> Total params: </span><span style=\"color: #00af00; text-decoration-color: #00af00\">2,112</span> (8.25 KB)\n",
       "</pre>\n"
      ],
      "text/plain": [
       "\u001b[1m Total params: \u001b[0m\u001b[38;5;34m2,112\u001b[0m (8.25 KB)\n"
      ]
     },
     "metadata": {},
     "output_type": "display_data"
    },
    {
     "data": {
      "text/html": [
       "<pre style=\"white-space:pre;overflow-x:auto;line-height:normal;font-family:Menlo,'DejaVu Sans Mono',consolas,'Courier New',monospace\"><span style=\"font-weight: bold\"> Trainable params: </span><span style=\"color: #00af00; text-decoration-color: #00af00\">2,112</span> (8.25 KB)\n",
       "</pre>\n"
      ],
      "text/plain": [
       "\u001b[1m Trainable params: \u001b[0m\u001b[38;5;34m2,112\u001b[0m (8.25 KB)\n"
      ]
     },
     "metadata": {},
     "output_type": "display_data"
    },
    {
     "data": {
      "text/html": [
       "<pre style=\"white-space:pre;overflow-x:auto;line-height:normal;font-family:Menlo,'DejaVu Sans Mono',consolas,'Courier New',monospace\"><span style=\"font-weight: bold\"> Non-trainable params: </span><span style=\"color: #00af00; text-decoration-color: #00af00\">0</span> (0.00 B)\n",
       "</pre>\n"
      ],
      "text/plain": [
       "\u001b[1m Non-trainable params: \u001b[0m\u001b[38;5;34m0\u001b[0m (0.00 B)\n"
      ]
     },
     "metadata": {},
     "output_type": "display_data"
    },
    {
     "name": "stdout",
     "output_type": "stream",
     "text": [
      "Epoch 1/20\n",
      "\u001b[1m12321/12321\u001b[0m \u001b[32m━━━━━━━━━━━━━━━━━━━━\u001b[0m\u001b[37m\u001b[0m \u001b[1m9s\u001b[0m 693us/step - accuracy: 0.9328 - loss: -137350627328.0000 - val_accuracy: 1.0000 - val_loss: -1065833725952.0000\n",
      "Epoch 2/20\n",
      "\u001b[1m12321/12321\u001b[0m \u001b[32m━━━━━━━━━━━━━━━━━━━━\u001b[0m\u001b[37m\u001b[0m \u001b[1m8s\u001b[0m 675us/step - accuracy: 1.0000 - loss: -1624137400320.0000 - val_accuracy: 1.0000 - val_loss: -3754411163648.0000\n",
      "Epoch 3/20\n",
      "\u001b[1m12321/12321\u001b[0m \u001b[32m━━━━━━━━━━━━━━━━━━━━\u001b[0m\u001b[37m\u001b[0m \u001b[1m9s\u001b[0m 701us/step - accuracy: 1.0000 - loss: -4714448027648.0000 - val_accuracy: 1.0000 - val_loss: -8099230384128.0000\n",
      "Epoch 4/20\n",
      "\u001b[1m12321/12321\u001b[0m \u001b[32m━━━━━━━━━━━━━━━━━━━━\u001b[0m\u001b[37m\u001b[0m \u001b[1m9s\u001b[0m 695us/step - accuracy: 1.0000 - loss: -9535879118848.0000 - val_accuracy: 1.0000 - val_loss: -14380881149952.0000\n",
      "Epoch 5/20\n",
      "\u001b[1m12321/12321\u001b[0m \u001b[32m━━━━━━━━━━━━━━━━━━━━\u001b[0m\u001b[37m\u001b[0m \u001b[1m8s\u001b[0m 678us/step - accuracy: 1.0000 - loss: -16317198368768.0000 - val_accuracy: 1.0000 - val_loss: -22836651491328.0000\n",
      "Epoch 6/20\n",
      "\u001b[1m12321/12321\u001b[0m \u001b[32m━━━━━━━━━━━━━━━━━━━━\u001b[0m\u001b[37m\u001b[0m \u001b[1m9s\u001b[0m 694us/step - accuracy: 1.0000 - loss: -25311943065600.0000 - val_accuracy: 1.0000 - val_loss: -33581495746560.0000\n",
      "Epoch 7/20\n",
      "\u001b[1m12321/12321\u001b[0m \u001b[32m━━━━━━━━━━━━━━━━━━━━\u001b[0m\u001b[37m\u001b[0m \u001b[1m9s\u001b[0m 695us/step - accuracy: 1.0000 - loss: -36649429893120.0000 - val_accuracy: 1.0000 - val_loss: -46676999929856.0000\n",
      "Epoch 8/20\n",
      "\u001b[1m12321/12321\u001b[0m \u001b[32m━━━━━━━━━━━━━━━━━━━━\u001b[0m\u001b[37m\u001b[0m \u001b[1m9s\u001b[0m 691us/step - accuracy: 1.0000 - loss: -50354959941632.0000 - val_accuracy: 1.0000 - val_loss: -62293983363072.0000\n",
      "Epoch 9/20\n",
      "\u001b[1m12321/12321\u001b[0m \u001b[32m━━━━━━━━━━━━━━━━━━━━\u001b[0m\u001b[37m\u001b[0m \u001b[1m9s\u001b[0m 700us/step - accuracy: 1.0000 - loss: -66649692569600.0000 - val_accuracy: 1.0000 - val_loss: -80440727699456.0000\n",
      "Epoch 10/20\n",
      "\u001b[1m12321/12321\u001b[0m \u001b[32m━━━━━━━━━━━━━━━━━━━━\u001b[0m\u001b[37m\u001b[0m \u001b[1m9s\u001b[0m 690us/step - accuracy: 1.0000 - loss: -85280652525568.0000 - val_accuracy: 1.0000 - val_loss: -101149625548800.0000\n",
      "Epoch 11/20\n",
      "\u001b[1m12321/12321\u001b[0m \u001b[32m━━━━━━━━━━━━━━━━━━━━\u001b[0m\u001b[37m\u001b[0m \u001b[1m9s\u001b[0m 694us/step - accuracy: 1.0000 - loss: -106530280046592.0000 - val_accuracy: 1.0000 - val_loss: -124359209385984.0000\n",
      "Epoch 12/20\n",
      "\u001b[1m12321/12321\u001b[0m \u001b[32m━━━━━━━━━━━━━━━━━━━━\u001b[0m\u001b[37m\u001b[0m \u001b[1m9s\u001b[0m 692us/step - accuracy: 1.0000 - loss: -130389477687296.0000 - val_accuracy: 1.0000 - val_loss: -150108167471104.0000\n",
      "Epoch 13/20\n",
      "\u001b[1m12321/12321\u001b[0m \u001b[32m━━━━━━━━━━━━━━━━━━━━\u001b[0m\u001b[37m\u001b[0m \u001b[1m9s\u001b[0m 693us/step - accuracy: 1.0000 - loss: -156678175588352.0000 - val_accuracy: 1.0000 - val_loss: -178367072567296.0000\n",
      "Epoch 14/20\n",
      "\u001b[1m12321/12321\u001b[0m \u001b[32m━━━━━━━━━━━━━━━━━━━━\u001b[0m\u001b[37m\u001b[0m \u001b[1m9s\u001b[0m 699us/step - accuracy: 1.0000 - loss: -185745306288128.0000 - val_accuracy: 1.0000 - val_loss: -209153364590592.0000\n",
      "Epoch 15/20\n",
      "\u001b[1m12321/12321\u001b[0m \u001b[32m━━━━━━━━━━━━━━━━━━━━\u001b[0m\u001b[37m\u001b[0m \u001b[1m9s\u001b[0m 692us/step - accuracy: 1.0000 - loss: -216708782489600.0000 - val_accuracy: 1.0000 - val_loss: -242471455948800.0000\n",
      "Epoch 16/20\n",
      "\u001b[1m12321/12321\u001b[0m \u001b[32m━━━━━━━━━━━━━━━━━━━━\u001b[0m\u001b[37m\u001b[0m \u001b[1m9s\u001b[0m 693us/step - accuracy: 1.0000 - loss: -250877612916736.0000 - val_accuracy: 1.0000 - val_loss: -278279386824704.0000\n",
      "Epoch 17/20\n",
      "\u001b[1m12321/12321\u001b[0m \u001b[32m━━━━━━━━━━━━━━━━━━━━\u001b[0m\u001b[37m\u001b[0m \u001b[1m8s\u001b[0m 683us/step - accuracy: 1.0000 - loss: -286848148570112.0000 - val_accuracy: 1.0000 - val_loss: -316613144346624.0000\n",
      "Epoch 18/20\n",
      "\u001b[1m12321/12321\u001b[0m \u001b[32m━━━━━━━━━━━━━━━━━━━━\u001b[0m\u001b[37m\u001b[0m \u001b[1m9s\u001b[0m 691us/step - accuracy: 1.0000 - loss: -326087372439552.0000 - val_accuracy: 1.0000 - val_loss: -357464860000256.0000\n",
      "Epoch 19/20\n",
      "\u001b[1m12321/12321\u001b[0m \u001b[32m━━━━━━━━━━━━━━━━━━━━\u001b[0m\u001b[37m\u001b[0m \u001b[1m9s\u001b[0m 696us/step - accuracy: 1.0000 - loss: -367054213349376.0000 - val_accuracy: 1.0000 - val_loss: -400817622351872.0000\n",
      "Epoch 20/20\n",
      "\u001b[1m12321/12321\u001b[0m \u001b[32m━━━━━━━━━━━━━━━━━━━━\u001b[0m\u001b[37m\u001b[0m \u001b[1m9s\u001b[0m 691us/step - accuracy: 1.0000 - loss: -411504574726144.0000 - val_accuracy: 1.0000 - val_loss: -446707972177920.0000\n"
     ]
    },
    {
     "data": {
      "text/plain": [
       "<keras.src.callbacks.history.History at 0x1e9b69ee9e0>"
      ]
     },
     "execution_count": 88,
     "metadata": {},
     "output_type": "execute_result"
    }
   ],
   "source": [
    "X_train, X_test = train_test_split(df_autoencoder, test_size=0.3, random_state=42)\n",
    "\n",
    "X_test, X_val = train_test_split(X_test, test_size=0.5, random_state=42)\n",
    "\n",
    "input = layers.Input(shape=(X_train.shape[1],))\n",
    "\n",
    "encoded = layers.Dense( units = 32, activation = \"relu\")(input)\n",
    "\n",
    "decoded = layers.Dense( units = 32, activation = \"sigmoid\")(encoded)\n",
    "\n",
    "autoencoder = keras.Model(input, decoded)\n",
    "autoencoder.compile(optimizer = \"adam\",loss = \"binary_crossentropy\", metrics = [\"accuracy\"])\n",
    "autoencoder.summary()\n",
    "\n",
    "autoencoder.fit(X_train, X_train, epochs = 20, batch_size = 32, validation_data = (X_test, X_test))"
   ]
  },
  {
   "cell_type": "code",
   "execution_count": 89,
   "metadata": {},
   "outputs": [
    {
     "name": "stdout",
     "output_type": "stream",
     "text": [
      "\u001b[1m12321/12321\u001b[0m \u001b[32m━━━━━━━━━━━━━━━━━━━━\u001b[0m\u001b[37m\u001b[0m \u001b[1m6s\u001b[0m 499us/step - accuracy: 1.0000 - loss: -444935895515136.0000\n",
      "\u001b[1m2641/2641\u001b[0m \u001b[32m━━━━━━━━━━━━━━━━━━━━\u001b[0m\u001b[37m\u001b[0m \u001b[1m1s\u001b[0m 526us/step - accuracy: 1.0000 - loss: -446387493797888.0000\n",
      "\u001b[1m2641/2641\u001b[0m \u001b[32m━━━━━━━━━━━━━━━━━━━━\u001b[0m\u001b[37m\u001b[0m \u001b[1m1s\u001b[0m 530us/step - accuracy: 1.0000 - loss: -444500694532096.0000\n",
      "Perda no conjunto de treinamento: [-445834013442048.0, 0.9999923706054688]\n",
      "Perda no conjunto de validação: [-446757062311936.0, 0.9999881386756897]\n",
      "Perda no conjunto de teste: [-446707972177920.0, 1.0]\n"
     ]
    }
   ],
   "source": [
    "loss_train = autoencoder.evaluate(X_train, X_train)\n",
    "loss_test = autoencoder.evaluate(X_test, X_test)\n",
    "loss_val = autoencoder.evaluate(X_val, X_val)\n",
    "\n",
    "print(\"Perda no conjunto de treinamento:\", loss_train)\n",
    "print(\"Perda no conjunto de validação:\", loss_val)\n",
    "print(\"Perda no conjunto de teste:\", loss_test)"
   ]
  },
  {
   "cell_type": "code",
   "execution_count": 90,
   "metadata": {},
   "outputs": [
    {
     "name": "stdout",
     "output_type": "stream",
     "text": [
      "\u001b[1m12321/12321\u001b[0m \u001b[32m━━━━━━━━━━━━━━━━━━━━\u001b[0m\u001b[37m\u001b[0m \u001b[1m6s\u001b[0m 502us/step\n",
      "\u001b[1m2641/2641\u001b[0m \u001b[32m━━━━━━━━━━━━━━━━━━━━\u001b[0m\u001b[37m\u001b[0m \u001b[1m1s\u001b[0m 468us/step\n"
     ]
    }
   ],
   "source": [
    "encoder_model = Model(input,encoded)\n",
    "\n",
    "X_train_encoded = encoder_model.predict(X_train)\n",
    "X_test_encoded = encoder_model.predict(X_test)\n"
   ]
  },
  {
   "cell_type": "markdown",
   "metadata": {},
   "source": [
    "Utilizando Kmeans para clusterizar os dados após reduzir sua dimensinalidade utilizando Autoencoders"
   ]
  },
  {
   "cell_type": "code",
   "execution_count": 91,
   "metadata": {},
   "outputs": [
    {
     "name": "stderr",
     "output_type": "stream",
     "text": [
      "100%|██████████| 21/21 [01:34<00:00,  4.50s/it]\n"
     ]
    }
   ],
   "source": [
    "from sklearn.cluster import KMeans\n",
    "from tqdm import tqdm\n",
    "\n",
    "k_range = range(1, 22)\n",
    "\n",
    "inertias = []\n",
    "\n",
    "for k in tqdm(k_range):\n",
    "    kmeans = KMeans(n_clusters=k, random_state=42)\n",
    "    kmeans.fit(X_train_encoded)\n",
    "    inertias.append(kmeans.inertia_)"
   ]
  },
  {
   "cell_type": "code",
   "execution_count": 92,
   "metadata": {},
   "outputs": [
    {
     "data": {
      "image/png": "[encoded data removed]",
      "text/plain": [
       "<Figure size 800x400 with 1 Axes>"
      ]
     },
     "metadata": {},
     "output_type": "display_data"
    }
   ],
   "source": [
    "import matplotlib.pyplot as plt\n",
    "\n",
    "distances = optimal_number_of_clusters(inertias)\n",
    "\n",
    "plt.figure(figsize=(8, 4))\n",
    "plt.plot(k_range, distances, 'bo-')\n",
    "plt.xlabel('Número de Clusters (k)')\n",
    "plt.ylabel('Distância da reta até o ponto da curva')\n",
    "plt.title('Método do Cotovelo para Determinação do k Ótimo')\n",
    "plt.show()"
   ]
  },
  {
   "cell_type": "code",
   "execution_count": 93,
   "metadata": {},
   "outputs": [
    {
     "name": "stderr",
     "output_type": "stream",
     "text": [
      "  0%|          | 1/999 [00:02<48:28,  2.91s/it]\n"
     ]
    },
    {
     "ename": "KeyboardInterrupt",
     "evalue": "",
     "output_type": "error",
     "traceback": [
      "\u001b[1;31m---------------------------------------------------------------------------\u001b[0m",
      "\u001b[1;31mKeyboardInterrupt\u001b[0m                         Traceback (most recent call last)",
      "Cell \u001b[1;32mIn[93], line 17\u001b[0m\n\u001b[0;32m     15\u001b[0m random_seed \u001b[38;5;241m=\u001b[39m i\n\u001b[0;32m     16\u001b[0m kmeans \u001b[38;5;241m=\u001b[39m KMeans(n_clusters\u001b[38;5;241m=\u001b[39mk, random_state\u001b[38;5;241m=\u001b[39mrandom_seed)\n\u001b[1;32m---> 17\u001b[0m \u001b[43mkmeans\u001b[49m\u001b[38;5;241;43m.\u001b[39;49m\u001b[43mfit\u001b[49m\u001b[43m(\u001b[49m\u001b[43mdf\u001b[49m\u001b[43m)\u001b[49m\n\u001b[0;32m     19\u001b[0m \u001b[38;5;28;01mif\u001b[39;00m kmeans\u001b[38;5;241m.\u001b[39minertia_ \u001b[38;5;241m<\u001b[39m best_inertia:\n\u001b[0;32m     20\u001b[0m     best_inertia \u001b[38;5;241m=\u001b[39m kmeans\u001b[38;5;241m.\u001b[39minertia_\n",
      "File \u001b[1;32mc:\\Users\\guilh\\AppData\\Local\\Programs\\Python\\Python310\\lib\\site-packages\\sklearn\\base.py:1152\u001b[0m, in \u001b[0;36m_fit_context.<locals>.decorator.<locals>.wrapper\u001b[1;34m(estimator, *args, **kwargs)\u001b[0m\n\u001b[0;32m   1145\u001b[0m     estimator\u001b[38;5;241m.\u001b[39m_validate_params()\n\u001b[0;32m   1147\u001b[0m \u001b[38;5;28;01mwith\u001b[39;00m config_context(\n\u001b[0;32m   1148\u001b[0m     skip_parameter_validation\u001b[38;5;241m=\u001b[39m(\n\u001b[0;32m   1149\u001b[0m         prefer_skip_nested_validation \u001b[38;5;129;01mor\u001b[39;00m global_skip_validation\n\u001b[0;32m   1150\u001b[0m     )\n\u001b[0;32m   1151\u001b[0m ):\n\u001b[1;32m-> 1152\u001b[0m     \u001b[38;5;28;01mreturn\u001b[39;00m fit_method(estimator, \u001b[38;5;241m*\u001b[39margs, \u001b[38;5;241m*\u001b[39m\u001b[38;5;241m*\u001b[39mkwargs)\n",
      "File \u001b[1;32mc:\\Users\\guilh\\AppData\\Local\\Programs\\Python\\Python310\\lib\\site-packages\\sklearn\\cluster\\_kmeans.py:1519\u001b[0m, in \u001b[0;36mKMeans.fit\u001b[1;34m(self, X, y, sample_weight)\u001b[0m\n\u001b[0;32m   1515\u001b[0m best_inertia, best_labels \u001b[38;5;241m=\u001b[39m \u001b[38;5;28;01mNone\u001b[39;00m, \u001b[38;5;28;01mNone\u001b[39;00m\n\u001b[0;32m   1517\u001b[0m \u001b[38;5;28;01mfor\u001b[39;00m i \u001b[38;5;129;01min\u001b[39;00m \u001b[38;5;28mrange\u001b[39m(\u001b[38;5;28mself\u001b[39m\u001b[38;5;241m.\u001b[39m_n_init):\n\u001b[0;32m   1518\u001b[0m     \u001b[38;5;66;03m# Initialize centers\u001b[39;00m\n\u001b[1;32m-> 1519\u001b[0m     centers_init \u001b[38;5;241m=\u001b[39m \u001b[38;5;28;43mself\u001b[39;49m\u001b[38;5;241;43m.\u001b[39;49m\u001b[43m_init_centroids\u001b[49m\u001b[43m(\u001b[49m\n\u001b[0;32m   1520\u001b[0m \u001b[43m        \u001b[49m\u001b[43mX\u001b[49m\u001b[43m,\u001b[49m\n\u001b[0;32m   1521\u001b[0m \u001b[43m        \u001b[49m\u001b[43mx_squared_norms\u001b[49m\u001b[38;5;241;43m=\u001b[39;49m\u001b[43mx_squared_norms\u001b[49m\u001b[43m,\u001b[49m\n\u001b[0;32m   1522\u001b[0m \u001b[43m        \u001b[49m\u001b[43minit\u001b[49m\u001b[38;5;241;43m=\u001b[39;49m\u001b[43minit\u001b[49m\u001b[43m,\u001b[49m\n\u001b[0;32m   1523\u001b[0m \u001b[43m        \u001b[49m\u001b[43mrandom_state\u001b[49m\u001b[38;5;241;43m=\u001b[39;49m\u001b[43mrandom_state\u001b[49m\u001b[43m,\u001b[49m\n\u001b[0;32m   1524\u001b[0m \u001b[43m        \u001b[49m\u001b[43msample_weight\u001b[49m\u001b[38;5;241;43m=\u001b[39;49m\u001b[43msample_weight\u001b[49m\u001b[43m,\u001b[49m\n\u001b[0;32m   1525\u001b[0m \u001b[43m    \u001b[49m\u001b[43m)\u001b[49m\n\u001b[0;32m   1526\u001b[0m     \u001b[38;5;28;01mif\u001b[39;00m \u001b[38;5;28mself\u001b[39m\u001b[38;5;241m.\u001b[39mverbose:\n\u001b[0;32m   1527\u001b[0m         \u001b[38;5;28mprint\u001b[39m(\u001b[38;5;124m\"\u001b[39m\u001b[38;5;124mInitialization complete\u001b[39m\u001b[38;5;124m\"\u001b[39m)\n",
      "File \u001b[1;32mc:\\Users\\guilh\\AppData\\Local\\Programs\\Python\\Python310\\lib\\site-packages\\sklearn\\cluster\\_kmeans.py:1019\u001b[0m, in \u001b[0;36m_BaseKMeans._init_centroids\u001b[1;34m(self, X, x_squared_norms, init, random_state, sample_weight, init_size, n_centroids)\u001b[0m\n\u001b[0;32m   1016\u001b[0m     sample_weight \u001b[38;5;241m=\u001b[39m sample_weight[init_indices]\n\u001b[0;32m   1018\u001b[0m \u001b[38;5;28;01mif\u001b[39;00m \u001b[38;5;28misinstance\u001b[39m(init, \u001b[38;5;28mstr\u001b[39m) \u001b[38;5;129;01mand\u001b[39;00m init \u001b[38;5;241m==\u001b[39m \u001b[38;5;124m\"\u001b[39m\u001b[38;5;124mk-means++\u001b[39m\u001b[38;5;124m\"\u001b[39m:\n\u001b[1;32m-> 1019\u001b[0m     centers, _ \u001b[38;5;241m=\u001b[39m \u001b[43m_kmeans_plusplus\u001b[49m\u001b[43m(\u001b[49m\n\u001b[0;32m   1020\u001b[0m \u001b[43m        \u001b[49m\u001b[43mX\u001b[49m\u001b[43m,\u001b[49m\n\u001b[0;32m   1021\u001b[0m \u001b[43m        \u001b[49m\u001b[43mn_clusters\u001b[49m\u001b[43m,\u001b[49m\n\u001b[0;32m   1022\u001b[0m \u001b[43m        \u001b[49m\u001b[43mrandom_state\u001b[49m\u001b[38;5;241;43m=\u001b[39;49m\u001b[43mrandom_state\u001b[49m\u001b[43m,\u001b[49m\n\u001b[0;32m   1023\u001b[0m \u001b[43m        \u001b[49m\u001b[43mx_squared_norms\u001b[49m\u001b[38;5;241;43m=\u001b[39;49m\u001b[43mx_squared_norms\u001b[49m\u001b[43m,\u001b[49m\n\u001b[0;32m   1024\u001b[0m \u001b[43m        \u001b[49m\u001b[43msample_weight\u001b[49m\u001b[38;5;241;43m=\u001b[39;49m\u001b[43msample_weight\u001b[49m\u001b[43m,\u001b[49m\n\u001b[0;32m   1025\u001b[0m \u001b[43m    \u001b[49m\u001b[43m)\u001b[49m\n\u001b[0;32m   1026\u001b[0m \u001b[38;5;28;01melif\u001b[39;00m \u001b[38;5;28misinstance\u001b[39m(init, \u001b[38;5;28mstr\u001b[39m) \u001b[38;5;129;01mand\u001b[39;00m init \u001b[38;5;241m==\u001b[39m \u001b[38;5;124m\"\u001b[39m\u001b[38;5;124mrandom\u001b[39m\u001b[38;5;124m\"\u001b[39m:\n\u001b[0;32m   1027\u001b[0m     seeds \u001b[38;5;241m=\u001b[39m random_state\u001b[38;5;241m.\u001b[39mchoice(\n\u001b[0;32m   1028\u001b[0m         n_samples,\n\u001b[0;32m   1029\u001b[0m         size\u001b[38;5;241m=\u001b[39mn_clusters,\n\u001b[0;32m   1030\u001b[0m         replace\u001b[38;5;241m=\u001b[39m\u001b[38;5;28;01mFalse\u001b[39;00m,\n\u001b[0;32m   1031\u001b[0m         p\u001b[38;5;241m=\u001b[39msample_weight \u001b[38;5;241m/\u001b[39m sample_weight\u001b[38;5;241m.\u001b[39msum(),\n\u001b[0;32m   1032\u001b[0m     )\n",
      "File \u001b[1;32mc:\\Users\\guilh\\AppData\\Local\\Programs\\Python\\Python310\\lib\\site-packages\\sklearn\\cluster\\_kmeans.py:249\u001b[0m, in \u001b[0;36m_kmeans_plusplus\u001b[1;34m(X, n_clusters, x_squared_norms, sample_weight, random_state, n_local_trials)\u001b[0m\n\u001b[0;32m    244\u001b[0m \u001b[38;5;28;01mfor\u001b[39;00m c \u001b[38;5;129;01min\u001b[39;00m \u001b[38;5;28mrange\u001b[39m(\u001b[38;5;241m1\u001b[39m, n_clusters):\n\u001b[0;32m    245\u001b[0m     \u001b[38;5;66;03m# Choose center candidates by sampling with probability proportional\u001b[39;00m\n\u001b[0;32m    246\u001b[0m     \u001b[38;5;66;03m# to the squared distance to the closest existing center\u001b[39;00m\n\u001b[0;32m    247\u001b[0m     rand_vals \u001b[38;5;241m=\u001b[39m random_state\u001b[38;5;241m.\u001b[39muniform(size\u001b[38;5;241m=\u001b[39mn_local_trials) \u001b[38;5;241m*\u001b[39m current_pot\n\u001b[0;32m    248\u001b[0m     candidate_ids \u001b[38;5;241m=\u001b[39m np\u001b[38;5;241m.\u001b[39msearchsorted(\n\u001b[1;32m--> 249\u001b[0m         \u001b[43mstable_cumsum\u001b[49m\u001b[43m(\u001b[49m\u001b[43msample_weight\u001b[49m\u001b[43m \u001b[49m\u001b[38;5;241;43m*\u001b[39;49m\u001b[43m \u001b[49m\u001b[43mclosest_dist_sq\u001b[49m\u001b[43m)\u001b[49m, rand_vals\n\u001b[0;32m    250\u001b[0m     )\n\u001b[0;32m    251\u001b[0m     \u001b[38;5;66;03m# XXX: numerical imprecision can result in a candidate_id out of range\u001b[39;00m\n\u001b[0;32m    252\u001b[0m     np\u001b[38;5;241m.\u001b[39mclip(candidate_ids, \u001b[38;5;28;01mNone\u001b[39;00m, closest_dist_sq\u001b[38;5;241m.\u001b[39msize \u001b[38;5;241m-\u001b[39m \u001b[38;5;241m1\u001b[39m, out\u001b[38;5;241m=\u001b[39mcandidate_ids)\n",
      "File \u001b[1;32mc:\\Users\\guilh\\AppData\\Local\\Programs\\Python\\Python310\\lib\\site-packages\\sklearn\\utils\\extmath.py:1142\u001b[0m, in \u001b[0;36mstable_cumsum\u001b[1;34m(arr, axis, rtol, atol)\u001b[0m\n\u001b[0;32m   1119\u001b[0m \u001b[38;5;250m\u001b[39m\u001b[38;5;124;03m\"\"\"Use high precision for cumsum and check that final value matches sum.\u001b[39;00m\n\u001b[0;32m   1120\u001b[0m \n\u001b[0;32m   1121\u001b[0m \u001b[38;5;124;03mWarns if the final cumulative sum does not match the sum (up to the chosen\u001b[39;00m\n\u001b[1;32m   (...)\u001b[0m\n\u001b[0;32m   1139\u001b[0m \u001b[38;5;124;03m    Array with the cumulative sums along the chosen axis.\u001b[39;00m\n\u001b[0;32m   1140\u001b[0m \u001b[38;5;124;03m\"\"\"\u001b[39;00m\n\u001b[0;32m   1141\u001b[0m out \u001b[38;5;241m=\u001b[39m np\u001b[38;5;241m.\u001b[39mcumsum(arr, axis\u001b[38;5;241m=\u001b[39maxis, dtype\u001b[38;5;241m=\u001b[39mnp\u001b[38;5;241m.\u001b[39mfloat64)\n\u001b[1;32m-> 1142\u001b[0m expected \u001b[38;5;241m=\u001b[39m \u001b[43mnp\u001b[49m\u001b[38;5;241;43m.\u001b[39;49m\u001b[43msum\u001b[49m\u001b[43m(\u001b[49m\u001b[43marr\u001b[49m\u001b[43m,\u001b[49m\u001b[43m \u001b[49m\u001b[43maxis\u001b[49m\u001b[38;5;241;43m=\u001b[39;49m\u001b[43maxis\u001b[49m\u001b[43m,\u001b[49m\u001b[43m \u001b[49m\u001b[43mdtype\u001b[49m\u001b[38;5;241;43m=\u001b[39;49m\u001b[43mnp\u001b[49m\u001b[38;5;241;43m.\u001b[39;49m\u001b[43mfloat64\u001b[49m\u001b[43m)\u001b[49m\n\u001b[0;32m   1143\u001b[0m \u001b[38;5;28;01mif\u001b[39;00m \u001b[38;5;129;01mnot\u001b[39;00m np\u001b[38;5;241m.\u001b[39mall(\n\u001b[0;32m   1144\u001b[0m     np\u001b[38;5;241m.\u001b[39misclose(\n\u001b[0;32m   1145\u001b[0m         out\u001b[38;5;241m.\u001b[39mtake(\u001b[38;5;241m-\u001b[39m\u001b[38;5;241m1\u001b[39m, axis\u001b[38;5;241m=\u001b[39maxis), expected, rtol\u001b[38;5;241m=\u001b[39mrtol, atol\u001b[38;5;241m=\u001b[39matol, equal_nan\u001b[38;5;241m=\u001b[39m\u001b[38;5;28;01mTrue\u001b[39;00m\n\u001b[0;32m   1146\u001b[0m     )\n\u001b[0;32m   1147\u001b[0m ):\n\u001b[0;32m   1148\u001b[0m     warnings\u001b[38;5;241m.\u001b[39mwarn(\n\u001b[0;32m   1149\u001b[0m         (\n\u001b[0;32m   1150\u001b[0m             \u001b[38;5;124m\"\u001b[39m\u001b[38;5;124mcumsum was found to be unstable: \u001b[39m\u001b[38;5;124m\"\u001b[39m\n\u001b[1;32m   (...)\u001b[0m\n\u001b[0;32m   1153\u001b[0m         \u001b[38;5;167;01mRuntimeWarning\u001b[39;00m,\n\u001b[0;32m   1154\u001b[0m     )\n",
      "File \u001b[1;32mc:\\Users\\guilh\\AppData\\Local\\Programs\\Python\\Python310\\lib\\site-packages\\numpy\\core\\fromnumeric.py:2313\u001b[0m, in \u001b[0;36msum\u001b[1;34m(a, axis, dtype, out, keepdims, initial, where)\u001b[0m\n\u001b[0;32m   2310\u001b[0m         \u001b[38;5;28;01mreturn\u001b[39;00m out\n\u001b[0;32m   2311\u001b[0m     \u001b[38;5;28;01mreturn\u001b[39;00m res\n\u001b[1;32m-> 2313\u001b[0m \u001b[38;5;28;01mreturn\u001b[39;00m \u001b[43m_wrapreduction\u001b[49m\u001b[43m(\u001b[49m\u001b[43ma\u001b[49m\u001b[43m,\u001b[49m\u001b[43m \u001b[49m\u001b[43mnp\u001b[49m\u001b[38;5;241;43m.\u001b[39;49m\u001b[43madd\u001b[49m\u001b[43m,\u001b[49m\u001b[43m \u001b[49m\u001b[38;5;124;43m'\u001b[39;49m\u001b[38;5;124;43msum\u001b[39;49m\u001b[38;5;124;43m'\u001b[39;49m\u001b[43m,\u001b[49m\u001b[43m \u001b[49m\u001b[43maxis\u001b[49m\u001b[43m,\u001b[49m\u001b[43m \u001b[49m\u001b[43mdtype\u001b[49m\u001b[43m,\u001b[49m\u001b[43m \u001b[49m\u001b[43mout\u001b[49m\u001b[43m,\u001b[49m\u001b[43m \u001b[49m\u001b[43mkeepdims\u001b[49m\u001b[38;5;241;43m=\u001b[39;49m\u001b[43mkeepdims\u001b[49m\u001b[43m,\u001b[49m\n\u001b[0;32m   2314\u001b[0m \u001b[43m                      \u001b[49m\u001b[43minitial\u001b[49m\u001b[38;5;241;43m=\u001b[39;49m\u001b[43minitial\u001b[49m\u001b[43m,\u001b[49m\u001b[43m \u001b[49m\u001b[43mwhere\u001b[49m\u001b[38;5;241;43m=\u001b[39;49m\u001b[43mwhere\u001b[49m\u001b[43m)\u001b[49m\n",
      "File \u001b[1;32mc:\\Users\\guilh\\AppData\\Local\\Programs\\Python\\Python310\\lib\\site-packages\\numpy\\core\\fromnumeric.py:88\u001b[0m, in \u001b[0;36m_wrapreduction\u001b[1;34m(obj, ufunc, method, axis, dtype, out, **kwargs)\u001b[0m\n\u001b[0;32m     85\u001b[0m         \u001b[38;5;28;01melse\u001b[39;00m:\n\u001b[0;32m     86\u001b[0m             \u001b[38;5;28;01mreturn\u001b[39;00m reduction(axis\u001b[38;5;241m=\u001b[39maxis, out\u001b[38;5;241m=\u001b[39mout, \u001b[38;5;241m*\u001b[39m\u001b[38;5;241m*\u001b[39mpasskwargs)\n\u001b[1;32m---> 88\u001b[0m \u001b[38;5;28;01mreturn\u001b[39;00m ufunc\u001b[38;5;241m.\u001b[39mreduce(obj, axis, dtype, out, \u001b[38;5;241m*\u001b[39m\u001b[38;5;241m*\u001b[39mpasskwargs)\n",
      "\u001b[1;31mKeyboardInterrupt\u001b[0m: "
     ]
    }
   ],
   "source": [
    "import numpy as np\n",
    "\n",
    "# Definir o número de clusters\n",
    "k = 3\n",
    "\n",
    "# Definir o número de inicializações diferentes\n",
    "num_initializations = 999\n",
    "\n",
    "best_inertia = np.inf\n",
    "best_kmeans = None\n",
    "best_random_seed = None\n",
    "\n",
    "# Treinar o modelo com diferentes random_seed\n",
    "for i in tqdm(range(num_initializations)):\n",
    "    random_seed = i\n",
    "    kmeans = KMeans(n_clusters=k, random_state=random_seed)\n",
    "    kmeans.fit(df)\n",
    "    \n",
    "    if kmeans.inertia_ < best_inertia:\n",
    "        best_inertia = kmeans.inertia_\n",
    "        best_kmeans = kmeans\n",
    "        best_random_seed = random_seed\n",
    "\n",
    "print(f\"Melhor random seed: {best_random_seed}\")"
   ]
  },
  {
   "cell_type": "markdown",
   "metadata": {},
   "source": [
    "Caso você queira rodar o kMeans com o melhor random state = 823"
   ]
  },
  {
   "cell_type": "markdown",
   "metadata": {},
   "source": [
    "Calculando a Inércia, percebemos que teve uma melhora de 000000000135734.53, em relação a anterior(sem autoencoders), isso pode ser devido ao fato de que o PCA já \n",
    "havia sido aplicado nos dados"
   ]
  },
  {
   "cell_type": "code",
   "execution_count": 95,
   "metadata": {},
   "outputs": [
    {
     "name": "stdout",
     "output_type": "stream",
     "text": [
      "Inércia: 125640261224573.42\n"
     ]
    }
   ],
   "source": [
    "print(f\"Inércia: {best_kmeans.inertia_}\")"
   ]
  },
  {
   "cell_type": "code",
   "execution_count": 96,
   "metadata": {},
   "outputs": [
    {
     "name": "stdout",
     "output_type": "stream",
     "text": [
      "Clusters encontrados [0 0 0 ... 0 0 2]\n",
      "                 Time        V1        V2        V3        V4        V5  \\\n",
      "157591  111083.000000  1.855876 -0.528715  0.136391  1.227645 -0.683445   \n",
      "157592  111086.000000 -0.619589  0.574291 -0.195893  1.348123  0.456957   \n",
      "157593  111087.000000 -0.200371 -0.015764 -0.058925 -0.520027  1.543060   \n",
      "157594  111087.000000 -0.075474  0.103926  0.725494  1.074052  0.863310   \n",
      "157595  111089.000000  2.104037  0.065442 -1.428655  0.323540  0.393572   \n",
      "...               ...       ...       ...       ...       ...       ...   \n",
      "563226  129607.655226 -2.294471  2.087198 -5.844912  2.864064 -0.809834   \n",
      "563227  137826.483421 -0.431469  1.383718 -5.531483  2.034940 -1.676173   \n",
      "563228  143436.589823 -4.365572  1.403825 -4.999829  3.329674  0.318717   \n",
      "563230  134902.969571  0.170720  1.204055 -3.922186  4.047616 -2.312621   \n",
      "563235  154021.180123 -6.151978 -1.487382 -4.893660  2.896103  0.463398   \n",
      "\n",
      "              V6        V7        V8        V9  ...       V20       V21  \\\n",
      "157591  0.745547 -1.363504  0.452630  2.635367  ... -0.343828  0.146727   \n",
      "157592 -0.457301  2.060942 -0.424673  0.569036  ...  0.574862  0.112625   \n",
      "157593  0.811815  0.465163  0.283670  0.982215  ... -0.074140 -0.149180   \n",
      "157594  0.566906  0.590947 -0.282767  1.314472  ...  0.477357  0.283163   \n",
      "157595 -0.720375  0.054806 -0.347347  2.082360  ... -0.271997  0.093486   \n",
      "...          ...       ...       ...       ...  ...       ...       ...   \n",
      "563226 -1.437570  0.849828 -0.084756 -1.341336  ... -0.585653 -0.024705   \n",
      "563227  0.451574 -2.378223  1.218847 -1.147631  ...  0.299569  0.705649   \n",
      "563228 -1.834366 -4.994230  0.079846 -3.108576  ... -0.203449 -0.163273   \n",
      "563230  0.992255  0.687167 -1.577017 -1.592121  ...  0.746310 -0.586147   \n",
      "563235 -3.166797 -4.169978  1.524096 -1.890787  ...  0.246065  1.171334   \n",
      "\n",
      "             V22       V23       V24       V25       V26       V27       V28  \\\n",
      "157591  0.521209  0.215920  0.125691 -0.450668 -0.670480  0.031473 -0.030751   \n",
      "157592  0.427960  0.313815 -0.161275  0.113366 -0.416477  0.322315  0.256394   \n",
      "157593 -0.263101  0.446488 -1.490584 -1.049675  0.124302  0.011691  0.028393   \n",
      "157594  1.132905  0.331353  0.049247 -1.199625 -0.679788  0.131418  0.097579   \n",
      "157595  0.657963 -0.007259  0.431328  0.360900 -0.474799 -0.024631 -0.056532   \n",
      "...          ...       ...       ...       ...       ...       ...       ...   \n",
      "563226  0.096330  0.085313 -0.683825  0.135856 -0.345215  0.489110 -0.164499   \n",
      "563227  0.249109  0.409246 -0.607881 -0.533974 -0.066519  0.952296  0.377552   \n",
      "563228  0.224766 -0.895835 -0.047098  0.322631 -0.436644  0.557275 -0.062709   \n",
      "563230  0.270443  0.816880 -0.054685 -1.055155  0.009982  0.563973  0.099766   \n",
      "563235 -0.994378  0.313069 -0.243100 -0.165280  1.236037 -0.669807 -0.585297   \n",
      "\n",
      "          Amount  \n",
      "157591 -0.281088  \n",
      "157592  0.701823  \n",
      "157593 -0.120637  \n",
      "157594  0.177794  \n",
      "157595 -0.432541  \n",
      "...          ...  \n",
      "563226  1.580537  \n",
      "563227  0.847998  \n",
      "563228 -0.409417  \n",
      "563230  2.260629  \n",
      "563235  0.261710  \n",
      "\n",
      "[204842 rows x 30 columns]\n"
     ]
    }
   ],
   "source": [
    "label = kmeans.fit_predict(df)\n",
    "\n",
    "print(\"Clusters encontrados\",label)\n",
    "#Aparentemente foi encontrado o cluster 0 como sendo valores grandes, o cluster 1 sendo valores próximos de 0 e o cluster 2 negativos\n",
    "print(df[label == 1])"
   ]
  },
  {
   "cell_type": "markdown",
   "metadata": {},
   "source": [
    "O uso de autoencoders não foi tão benefico para esse conjunto de dados, como pode ser observado na imagem"
   ]
  },
  {
   "cell_type": "code",
   "execution_count": 98,
   "metadata": {},
   "outputs": [
    {
     "data": {
      "image/png": "[encoded data removed]",
      "text/plain": [
       "<Figure size 640x480 with 1 Axes>"
      ]
     },
     "metadata": {},
     "output_type": "display_data"
    },
    {
     "data": {
      "text/plain": [
       "<Figure size 1200x1200 with 0 Axes>"
      ]
     },
     "metadata": {},
     "output_type": "display_data"
    }
   ],
   "source": [
    "all_labels = np.unique(label)\n",
    "\n",
    "for i in all_labels:\n",
    "    plt.scatter(df[label == i].iloc[:, 0], df[label == i].iloc[:, 1], label=f'Cluster {i}')\n",
    "\n",
    "plt.ylabel('PCA')\n",
    "plt.xlabel(\"Time\")\n",
    "plt.title(\"Clusters\")\n",
    "plt.figure(figsize=(12,12))\n",
    "plt.show()"
   ]
  },
  {
   "cell_type": "code",
   "execution_count": 97,
   "metadata": {},
   "outputs": [],
   "source": [
    "# Obter os centróides do melhor modelo\n",
    "centroids = best_kmeans.cluster_centers_\n",
    "\n",
    "# Converter os centróides para um DataFrame\n",
    "centroids_df = pd.DataFrame(centroids, columns=df.columns)\n",
    "\n",
    "# Salvar os centróides em um arquivo CSV\n",
    "centroids_df.to_csv('../best_centroids_df_treated_autoencoders.csv', index=False)"
   ]
  },
  {
   "cell_type": "code",
   "execution_count": 31,
   "metadata": {},
   "outputs": [],
   "source": [
    "df['cluster'] = best_kmeans.labels_\n",
    "df['Class'] = class_label\n",
    "\n",
    "df.to_csv('../creditcard_treated_clusters_autoencoders.csv', index=False)"
   ]
  }
 ],
 "metadata": {
  "kernelspec": {
   "display_name": "projeto_pad",
   "language": "python",
   "name": "python3"
  },
  "language_info": {
   "codemirror_mode": {
    "name": "ipython",
    "version": 3
   },
   "file_extension": ".py",
   "mimetype": "text/x-python",
   "name": "python",
   "nbconvert_exporter": "python",
   "pygments_lexer": "ipython3",
   "version": "3.10.11"
  }
 },
 "nbformat": 4,
 "nbformat_minor": 2
}
